{
 "cells": [
  {
   "cell_type": "markdown",
   "metadata": {},
   "source": [
    "# Workflow for SOC modelling"
   ]
  },
  {
   "cell_type": "code",
   "execution_count": 2,
   "metadata": {},
   "outputs": [],
   "source": [
    "import numpy as np\n",
    "import pandas as pd"
   ]
  },
  {
   "cell_type": "markdown",
   "metadata": {
    "heading_collapsed": true
   },
   "source": [
    "## Colin's idea"
   ]
  },
  {
   "cell_type": "markdown",
   "metadata": {
    "hidden": true
   },
   "source": [
    "This section describes what (I think) Colin had intended to do, based on his soil carbon primer and the datasets that he provided.  The soil team has already made some progress on this."
   ]
  },
  {
   "cell_type": "markdown",
   "metadata": {
    "hidden": true
   },
   "source": [
    "### Soil carbon data\n",
    "Soil carbon values from field samples have been processed and put into tabular form, like:"
   ]
  },
  {
   "cell_type": "code",
   "execution_count": 13,
   "metadata": {
    "hidden": true
   },
   "outputs": [
    {
     "data": {
      "text/html": [
       "<div>\n",
       "<style scoped>\n",
       "    .dataframe tbody tr th:only-of-type {\n",
       "        vertical-align: middle;\n",
       "    }\n",
       "\n",
       "    .dataframe tbody tr th {\n",
       "        vertical-align: top;\n",
       "    }\n",
       "\n",
       "    .dataframe thead th {\n",
       "        text-align: right;\n",
       "    }\n",
       "</style>\n",
       "<table border=\"1\" class=\"dataframe\">\n",
       "  <thead>\n",
       "    <tr style=\"text-align: right;\">\n",
       "      <th></th>\n",
       "      <th>lon</th>\n",
       "      <th>lat</th>\n",
       "      <th>time</th>\n",
       "      <th>SOC</th>\n",
       "    </tr>\n",
       "  </thead>\n",
       "  <tbody>\n",
       "    <tr>\n",
       "      <th>0</th>\n",
       "      <td>23.00</td>\n",
       "      <td>34.0</td>\n",
       "      <td>1976</td>\n",
       "      <td>0.002</td>\n",
       "    </tr>\n",
       "    <tr>\n",
       "      <th>1</th>\n",
       "      <td>36.12</td>\n",
       "      <td>-34.0</td>\n",
       "      <td>1987</td>\n",
       "      <td>0.130</td>\n",
       "    </tr>\n",
       "    <tr>\n",
       "      <th>2</th>\n",
       "      <td>176.00</td>\n",
       "      <td>78.0</td>\n",
       "      <td>2010</td>\n",
       "      <td>0.450</td>\n",
       "    </tr>\n",
       "  </tbody>\n",
       "</table>\n",
       "</div>"
      ],
      "text/plain": [
       "      lon   lat  time    SOC\n",
       "0   23.00  34.0  1976  0.002\n",
       "1   36.12 -34.0  1987  0.130\n",
       "2  176.00  78.0  2010  0.450"
      ]
     },
     "execution_count": 13,
     "metadata": {},
     "output_type": "execute_result"
    }
   ],
   "source": [
    "lons = np.array([23, 36.12, 176])\n",
    "lats = np.array([34., -34, 78.])\n",
    "time = np.array([1976, 1987, 2010])\n",
    "socs = np.array([0.002, 0.13, 0.45])\n",
    "\n",
    "df = pd.DataFrame({'lon':lons, 'lat':lats, 'time':time, 'SOC':socs})\n",
    "df"
   ]
  },
  {
   "cell_type": "markdown",
   "metadata": {
    "hidden": true
   },
   "source": [
    "### Environmental covariates\n",
    "\n",
    "We also have a stack of about 150 environmental covariates, based on a list provided by Coin, uploaded onto the Google Earth Engine.  Each covariate is in the form of a raster over the globe. e.g. EarthEnv's Eastness:\n",
    "\n",
    "<img src=\"earthenv_eastness.png\" width=300>\n",
    "\n",
    "As they are, each covariate is independent of time and only varies with location (longitude, latitude)."
   ]
  },
  {
   "cell_type": "markdown",
   "metadata": {
    "hidden": true
   },
   "source": [
    "### Modelling\n",
    "\n",
    "The soil carbon table and the covariates can be merged by location, `(lon, lat)`, yielding tabular data like the following:"
   ]
  },
  {
   "cell_type": "code",
   "execution_count": 14,
   "metadata": {
    "hidden": true
   },
   "outputs": [
    {
     "data": {
      "text/html": [
       "<div>\n",
       "<style scoped>\n",
       "    .dataframe tbody tr th:only-of-type {\n",
       "        vertical-align: middle;\n",
       "    }\n",
       "\n",
       "    .dataframe tbody tr th {\n",
       "        vertical-align: top;\n",
       "    }\n",
       "\n",
       "    .dataframe thead th {\n",
       "        text-align: right;\n",
       "    }\n",
       "</style>\n",
       "<table border=\"1\" class=\"dataframe\">\n",
       "  <thead>\n",
       "    <tr style=\"text-align: right;\">\n",
       "      <th></th>\n",
       "      <th>avg_temp_jan</th>\n",
       "      <th>SG_SOC_Stock</th>\n",
       "      <th>WCS_Human_Footprint_2009</th>\n",
       "      <th>earthenv_landcover_shrubs</th>\n",
       "      <th>lon</th>\n",
       "      <th>lat</th>\n",
       "      <th>time</th>\n",
       "      <th>SOC</th>\n",
       "    </tr>\n",
       "  </thead>\n",
       "  <tbody>\n",
       "    <tr>\n",
       "      <th>0</th>\n",
       "      <td>2.01</td>\n",
       "      <td>0.001</td>\n",
       "      <td>0.5</td>\n",
       "      <td>0.1</td>\n",
       "      <td>23.00</td>\n",
       "      <td>34.0</td>\n",
       "      <td>1976</td>\n",
       "      <td>0.002</td>\n",
       "    </tr>\n",
       "    <tr>\n",
       "      <th>1</th>\n",
       "      <td>0.02</td>\n",
       "      <td>0.300</td>\n",
       "      <td>0.7</td>\n",
       "      <td>0.3</td>\n",
       "      <td>36.12</td>\n",
       "      <td>-34.0</td>\n",
       "      <td>1987</td>\n",
       "      <td>0.130</td>\n",
       "    </tr>\n",
       "    <tr>\n",
       "      <th>2</th>\n",
       "      <td>0.20</td>\n",
       "      <td>0.400</td>\n",
       "      <td>0.7</td>\n",
       "      <td>0.3</td>\n",
       "      <td>176.00</td>\n",
       "      <td>78.0</td>\n",
       "      <td>2010</td>\n",
       "      <td>0.450</td>\n",
       "    </tr>\n",
       "  </tbody>\n",
       "</table>\n",
       "</div>"
      ],
      "text/plain": [
       "   avg_temp_jan  SG_SOC_Stock  WCS_Human_Footprint_2009  \\\n",
       "0          2.01         0.001                       0.5   \n",
       "1          0.02         0.300                       0.7   \n",
       "2          0.20         0.400                       0.7   \n",
       "\n",
       "   earthenv_landcover_shrubs     lon   lat  time    SOC  \n",
       "0                        0.1   23.00  34.0  1976  0.002  \n",
       "1                        0.3   36.12 -34.0  1987  0.130  \n",
       "2                        0.3  176.00  78.0  2010  0.450  "
      ]
     },
     "execution_count": 14,
     "metadata": {},
     "output_type": "execute_result"
    }
   ],
   "source": [
    "avg_temp_jan = np.array([2.01, 0.02, .2])\n",
    "SG_SOC_Stock = np.array([0.001, 0.3, 0.4])\n",
    "WCS_Human_Footprint_2009 = np.array([0.5, 0.7, 0.7])\n",
    "earthenv_landcover_shrubs = np.array([0.1, 0.3, 0.3])\n",
    "\n",
    "df['avg_temp_jan'] = avg_temp_jan\n",
    "df['SG_SOC_Stock'] = SG_SOC_Stock\n",
    "df['WCS_Human_Footprint_2009'] = WCS_Human_Footprint_2009\n",
    "df['earthenv_landcover_shrubs'] = earthenv_landcover_shrubs\n",
    "\n",
    "df = df[['avg_temp_jan', 'SG_SOC_Stock', 'WCS_Human_Footprint_2009', \n",
    "         'earthenv_landcover_shrubs', 'lon', 'lat', 'time', 'SOC']]\n",
    "\n",
    "df"
   ]
  },
  {
   "cell_type": "markdown",
   "metadata": {
    "hidden": true
   },
   "source": [
    "For illustration purposes, only 4 covariates are shown here.  They are:\n",
    "- `avg_temp_jan` --- Average January temperature.\n",
    "- `SG_SOC_Stock` --- SoilGrid soil organic carbon stock 2017.\n",
    "- `WCS_Human_Footprint_2009` --- Wildlife Conservation Society's 2009 human footprint\n",
    "- `earthenv_landcover_shrubs` -- EarthEnv's shrubs landcover."
   ]
  },
  {
   "cell_type": "markdown",
   "metadata": {
    "hidden": true
   },
   "source": [
    "In such a table, taking SOC as the dependent variable and everything else as the independent variables, we can train/fit a model of the form:\n",
    "\n",
    "$$\n",
    "y = f(\\phi, \\theta, t) = g(x(\\phi, \\theta)) \\: h(t)\n",
    "$$\n",
    "\n",
    "because the covariates are time independent.  $y$ is the SOC and $x$ are the covariates.  \n",
    "\n",
    "For data of this tabular form, possible algorithms include:\n",
    "- Quantile random forest\n",
    "- Tabnet/NNs\n",
    "- Interpretable gradient boosting machines"
   ]
  },
  {
   "cell_type": "markdown",
   "metadata": {
    "heading_collapsed": true
   },
   "source": [
    "## Improving the covariate stack"
   ]
  },
  {
   "cell_type": "markdown",
   "metadata": {
    "hidden": true
   },
   "source": [
    "The following are ways the covariate stack can be improved:\n",
    "\n",
    "1. **Use correct, past-only histories.**  \n",
    "   For example, take the covariate `avg_temp_jan`.  It's the average January temperature that is averaged over the years 1970-2000.  For a SOC sample taken in 1976, it doesn't make physical sense to try to predict it using temperatures from 1976-2000.  For a sample taken in 2010, this covariate doesn't take into account the history between 2000-2010.  In this case, it's possible to dig out the correct temperature history from historical climate data.  In general, climate variables, such as temperature, cloud, and precipitation should be available out there at a decent enough temporal resolution.\n",
    "\n",
    "2. **Supplment with time-varying remote sensing data/satellite images.**  \n",
    "   For example, it's expected that human development varies with time, but the covariate `WCS_Human_Footprint_2009` is human footprint as of the year 2009, so issues related to incompatible history also apply here, and it's also the same with `earthenv_landcover_shrubs`, EarthEnv's shrubs landcover, which its description says is derived other data products published in 2015.  Information about these variables are encoded in satellite images, which are available at many more timestamps, so for each SOC sample, we can also grab the corresponding history and use that as a covariate.  e.g. LANDSAT has been observing from 1970 to the present.  "
   ]
  },
  {
   "cell_type": "markdown",
   "metadata": {
    "hidden": true
   },
   "source": [
    "After these changes, the tabular data might now look like:"
   ]
  },
  {
   "cell_type": "code",
   "execution_count": 20,
   "metadata": {
    "hidden": true
   },
   "outputs": [
    {
     "data": {
      "text/html": [
       "<div>\n",
       "<style scoped>\n",
       "    .dataframe tbody tr th:only-of-type {\n",
       "        vertical-align: middle;\n",
       "    }\n",
       "\n",
       "    .dataframe tbody tr th {\n",
       "        vertical-align: top;\n",
       "    }\n",
       "\n",
       "    .dataframe thead th {\n",
       "        text-align: right;\n",
       "    }\n",
       "</style>\n",
       "<table border=\"1\" class=\"dataframe\">\n",
       "  <thead>\n",
       "    <tr style=\"text-align: right;\">\n",
       "      <th></th>\n",
       "      <th>LANDSAT Band 1</th>\n",
       "      <th>LANDSAT Band 2</th>\n",
       "      <th>avg_temp_jan</th>\n",
       "      <th>SG_SOC_Stock</th>\n",
       "      <th>WCS_Human_Footprint_2009</th>\n",
       "      <th>earthenv_landcover_shrubs</th>\n",
       "      <th>lon</th>\n",
       "      <th>lat</th>\n",
       "      <th>time</th>\n",
       "      <th>SOC</th>\n",
       "    </tr>\n",
       "  </thead>\n",
       "  <tbody>\n",
       "    <tr>\n",
       "      <th>0</th>\n",
       "      <td>0.33</td>\n",
       "      <td>45.0</td>\n",
       "      <td>1.1</td>\n",
       "      <td>0.001</td>\n",
       "      <td>0.5</td>\n",
       "      <td>0.1</td>\n",
       "      <td>23.00</td>\n",
       "      <td>34.0</td>\n",
       "      <td>1976</td>\n",
       "      <td>0.002</td>\n",
       "    </tr>\n",
       "    <tr>\n",
       "      <th>1</th>\n",
       "      <td>0.56</td>\n",
       "      <td>12.0</td>\n",
       "      <td>0.3</td>\n",
       "      <td>0.300</td>\n",
       "      <td>0.7</td>\n",
       "      <td>0.3</td>\n",
       "      <td>36.12</td>\n",
       "      <td>-34.0</td>\n",
       "      <td>1987</td>\n",
       "      <td>0.130</td>\n",
       "    </tr>\n",
       "    <tr>\n",
       "      <th>2</th>\n",
       "      <td>0.20</td>\n",
       "      <td>187.0</td>\n",
       "      <td>4.0</td>\n",
       "      <td>0.400</td>\n",
       "      <td>0.7</td>\n",
       "      <td>0.3</td>\n",
       "      <td>176.00</td>\n",
       "      <td>78.0</td>\n",
       "      <td>2010</td>\n",
       "      <td>0.450</td>\n",
       "    </tr>\n",
       "  </tbody>\n",
       "</table>\n",
       "</div>"
      ],
      "text/plain": [
       "   LANDSAT Band 1  LANDSAT Band 2  avg_temp_jan  SG_SOC_Stock  \\\n",
       "0            0.33            45.0           1.1         0.001   \n",
       "1            0.56            12.0           0.3         0.300   \n",
       "2            0.20           187.0           4.0         0.400   \n",
       "\n",
       "   WCS_Human_Footprint_2009  earthenv_landcover_shrubs     lon   lat  time  \\\n",
       "0                       0.5                        0.1   23.00  34.0  1976   \n",
       "1                       0.7                        0.3   36.12 -34.0  1987   \n",
       "2                       0.7                        0.3  176.00  78.0  2010   \n",
       "\n",
       "     SOC  \n",
       "0  0.002  \n",
       "1  0.130  \n",
       "2  0.450  "
      ]
     },
     "execution_count": 20,
     "metadata": {},
     "output_type": "execute_result"
    }
   ],
   "source": [
    "df_plus = df.copy()\n",
    "df_plus['LANDSAT Band 1'] = np.array([.33, .56, .2])\n",
    "df_plus['LANDSAT Band 2'] = np.array([45., 12., 187.])\n",
    "df_plus.loc[:, 'avg_temp_jan'] = np.array([1.1, 0.3, 4])\n",
    "\n",
    "df_plus[list(df_plus.columns[-2:]) + list(df_plus.columns[:-2])]"
   ]
  },
  {
   "cell_type": "markdown",
   "metadata": {
    "hidden": true
   },
   "source": [
    "Notice that `avg_temp_jan` values are different from before because we using January temperatures that are averaged over different periods.  For sample 0, over past-1976. For sample 1, past-1987, and so on.  \n",
    "\n",
    "The `LANDSAT Band 1` value for sample 0 would be the value of the LANDSAT pixel at sample 0's location in spectral band 1, averaged over the years past-1987.  \n",
    "\n",
    "Using such a dataset, the resulting model can interpreted as of the form:\n",
    "\n",
    "$$\n",
    "y = g(x) \\: h(t)\n",
    "$$\n",
    "\n",
    "Some covariates will remain static $x(\\phi, \\theta)$, but some will have time-dependence, and of the form:\n",
    "\n",
    "$$\n",
    "x(\\phi, \\theta, t) = \\frac{1}{T} \\sum_{t' = t - T}^{t} x(\\phi, \\theta, t')\n",
    "$$\n",
    "\n",
    "because the average history is used.  $T$ is the length of history.\n",
    "\n",
    "Given the data is still tabular, suitable algorithms remain the same. "
   ]
  },
  {
   "cell_type": "markdown",
   "metadata": {},
   "source": [
    "## Modelling using image-form data"
   ]
  },
  {
   "cell_type": "markdown",
   "metadata": {},
   "source": [
    "Instead of using only information at each field sample's point location, the area surrounding it can also be used to train the models.  \n",
    "\n",
    "Such a dataset can be generated in GEE, by giving the `ee.filterBounds` method an area geometry instead of a point geometry.  Each value in the tabular data above will now become a 2-d array, or an image.  \n",
    "\n",
    "Suitable algorithms for this type of data:\n",
    "- Convolutional neural networks."
   ]
  },
  {
   "cell_type": "markdown",
   "metadata": {},
   "source": [
    "**Couldn't we just use existing soil carbon maps out there?**\n",
    "\n",
    "1. In the covariate stack, there are variables like SoilGrid SOC 0-30 cm, SoilGrid_SOC 30-60 cm, etc.  These are soil carbon values. for each point on Earth.  That these are in the covariate stack suggests that SoilGrid have more to be desired of, otherwise we could just take these values and that would be the end of story.  \n",
    "2. This is also supported by this Slack post by Colin."
   ]
  },
  {
   "cell_type": "code",
   "execution_count": null,
   "metadata": {},
   "outputs": [],
   "source": []
  }
 ],
 "metadata": {
  "kernelspec": {
   "display_name": "Python 3",
   "language": "python",
   "name": "python3"
  },
  "language_info": {
   "codemirror_mode": {
    "name": "ipython",
    "version": 3
   },
   "file_extension": ".py",
   "mimetype": "text/x-python",
   "name": "python",
   "nbconvert_exporter": "python",
   "pygments_lexer": "ipython3",
   "version": "3.7.7"
  },
  "toc": {
   "base_numbering": 1,
   "nav_menu": {
    "height": "231px",
    "width": "349px"
   },
   "number_sections": true,
   "sideBar": true,
   "skip_h1_title": false,
   "title_cell": "Table of Contents",
   "title_sidebar": "Contents",
   "toc_cell": false,
   "toc_position": {},
   "toc_section_display": true,
   "toc_window_display": false
  }
 },
 "nbformat": 4,
 "nbformat_minor": 4
}
