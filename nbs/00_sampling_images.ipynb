{
 "cells": [
  {
   "cell_type": "markdown",
   "metadata": {},
   "source": [
    "# Sampling Images"
   ]
  },
  {
   "cell_type": "code",
   "execution_count": 4,
   "metadata": {},
   "outputs": [],
   "source": [
    "import ee\n",
    "import geemap\n",
    "\n",
    "ee.Initialize()"
   ]
  },
  {
   "cell_type": "markdown",
   "metadata": {},
   "source": [
    "## Soil sample data"
   ]
  },
  {
   "cell_type": "code",
   "execution_count": null,
   "metadata": {},
   "outputs": [],
   "source": [
    "wise3 = ee.FeatureCollection(\"users/bingosaucer/orgc_stock_ISRIC_WISE_clip_gee\")"
   ]
  },
  {
   "cell_type": "code",
   "execution_count": 57,
   "metadata": {
    "scrolled": false
   },
   "outputs": [],
   "source": [
    "Map = geemap.Map(center=(45, 0), zoom=2)"
   ]
  },
  {
   "cell_type": "code",
   "execution_count": 58,
   "metadata": {},
   "outputs": [],
   "source": [
    "Map.addLayer(wise3, {}, \"WISE3\")"
   ]
  },
  {
   "cell_type": "code",
   "execution_count": 59,
   "metadata": {},
   "outputs": [
    {
     "data": {
      "application/vnd.jupyter.widget-view+json": {
       "model_id": "59651ccf921a47f591de574b9e9bab19",
       "version_major": 2,
       "version_minor": 0
      },
      "text/plain": [
       "Map(center=[45, 0], controls=(WidgetControl(options=['position'], widget=HBox(children=(ToggleButton(value=Fal…"
      ]
     },
     "metadata": {},
     "output_type": "display_data"
    }
   ],
   "source": [
    "Map"
   ]
  },
  {
   "cell_type": "markdown",
   "metadata": {},
   "source": [
    "## Merge images in collection to an image"
   ]
  },
  {
   "cell_type": "code",
   "execution_count": 24,
   "metadata": {},
   "outputs": [],
   "source": [
    "def collection2image_stackbands(collection):\n",
    "    '''\n",
    "    Merge images in an image collection to a single image.  Each\n",
    "    image in the collection becomes a band in the output image.\n",
    "    \n",
    "    Args:\n",
    "        collection (ee.ImageCollection): Image collection.\n",
    "    '''\n",
    "    img = collection.iterate(lambda curr, prev: ee.Image(prev).addBands(curr), ee.Image(1))\n",
    "    img = ee.Image(img)\n",
    "    ibands = ee.List.sequence(1, img.bandNames().size().subtract(1))\n",
    "    return img.select(ibands)\n"
   ]
  },
  {
   "cell_type": "code",
   "execution_count": 23,
   "metadata": {},
   "outputs": [],
   "source": [
    "landcovers = ee.ImageCollection('users/bingosaucer/ConsensusLandCover_Human_Development_Percentage')"
   ]
  },
  {
   "cell_type": "code",
   "execution_count": 25,
   "metadata": {},
   "outputs": [
    {
     "data": {
      "text/plain": [
       "['b1',\n",
       " 'b1_1',\n",
       " 'b1_2',\n",
       " 'b1_3',\n",
       " 'b1_4',\n",
       " 'b1_5',\n",
       " 'b1_6',\n",
       " 'b1_7',\n",
       " 'b1_8',\n",
       " 'b1_9',\n",
       " 'b1_10',\n",
       " 'b1_11']"
      ]
     },
     "execution_count": 25,
     "metadata": {},
     "output_type": "execute_result"
    }
   ],
   "source": [
    "landcovers_img = collection2image_stackbands(landcovers)\n",
    "landcovers_img.bandNames().getInfo()"
   ]
  },
  {
   "cell_type": "markdown",
   "metadata": {},
   "source": [
    "## Sampling image at points"
   ]
  },
  {
   "cell_type": "markdown",
   "metadata": {},
   "source": [
    "> images + points $\\rightarrow$ images' values at points\n",
    "\n",
    "Use `ee.Image.reduceRegions` to sample the above image at a selection of points.  The result is a `ee.FeatureCollection`, where each feature is one of the selected points.  Each point has a `properties` dict, and each property inside this is the value a band of an image from the original image collection."
   ]
  },
  {
   "cell_type": "code",
   "execution_count": 40,
   "metadata": {},
   "outputs": [],
   "source": [
    "result = landcovers_img.reduceRegions(wise3, ee.Reducer.mean())"
   ]
  },
  {
   "cell_type": "code",
   "execution_count": 60,
   "metadata": {},
   "outputs": [
    {
     "data": {
      "text/plain": [
       "{'type': 'Feature',\n",
       " 'geometry': {'type': 'Point',\n",
       "  'coordinates': [-155.1005552139237, 19.744168172085583]},\n",
       " 'id': '0000000000000000011a',\n",
       " 'properties': {'b1': 0,\n",
       "  'b1_1': 0,\n",
       "  'b1_10': 0,\n",
       "  'b1_11': 0,\n",
       "  'b1_2': 0,\n",
       "  'b1_3': 0,\n",
       "  'b1_4': 23,\n",
       "  'b1_5': 12,\n",
       "  'b1_6': 10,\n",
       "  'b1_7': 0,\n",
       "  'b1_8': 5,\n",
       "  'b1_9': 19,\n",
       "  'bot_cm': 100,\n",
       "  'datetime': 0,\n",
       "  'mineral_fraction': 0.23000000417232513,\n",
       "  'organic_fraction': 0.7699999809265137,\n",
       "  'orgc_stock_mineral': 11.028960668150008,\n",
       "  'orgc_stock_organic': 7.822259886666,\n",
       "  'profile_id': 'US0004',\n",
       "  'top_cm': 0}}"
      ]
     },
     "execution_count": 60,
     "metadata": {},
     "output_type": "execute_result"
    }
   ],
   "source": [
    "result.getInfo()['features'][0]"
   ]
  },
  {
   "cell_type": "markdown",
   "metadata": {
    "heading_collapsed": true
   },
   "source": [
    "# Reference"
   ]
  },
  {
   "cell_type": "markdown",
   "metadata": {
    "hidden": true
   },
   "source": [
    "- https://mygeoblog.com/2019/07/17/sample-an-image-collection/\n",
    "\n",
    "  "
   ]
  },
  {
   "cell_type": "code",
   "execution_count": null,
   "metadata": {
    "hidden": true
   },
   "outputs": [],
   "source": []
  }
 ],
 "metadata": {
  "kernelspec": {
   "display_name": "Python 3",
   "language": "python",
   "name": "python3"
  },
  "language_info": {
   "codemirror_mode": {
    "name": "ipython",
    "version": 3
   },
   "file_extension": ".py",
   "mimetype": "text/x-python",
   "name": "python",
   "nbconvert_exporter": "python",
   "pygments_lexer": "ipython3",
   "version": "3.7.7"
  },
  "toc": {
   "base_numbering": 1,
   "nav_menu": {
    "height": "235.333px",
    "width": "437.333px"
   },
   "number_sections": true,
   "sideBar": true,
   "skip_h1_title": false,
   "title_cell": "Table of Contents",
   "title_sidebar": "Contents",
   "toc_cell": false,
   "toc_position": {},
   "toc_section_display": true,
   "toc_window_display": false
  }
 },
 "nbformat": 4,
 "nbformat_minor": 4
}
