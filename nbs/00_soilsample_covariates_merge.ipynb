{
  "nbformat": 4,
  "nbformat_minor": 0,
  "metadata": {
    "colab": {
      "name": "00_soilsample_covariates_merge.ipynb",
      "provenance": [],
      "collapsed_sections": [],
      "toc_visible": true,
      "authorship_tag": "ABX9TyMnswBAXjNR4RO06St/6thf",
      "include_colab_link": true
    },
    "kernelspec": {
      "name": "python3",
      "display_name": "Python 3"
    },
    "language_info": {
      "name": "python"
    }
  },
  "cells": [
    {
      "cell_type": "markdown",
      "metadata": {
        "id": "view-in-github",
        "colab_type": "text"
      },
      "source": [
        "<a href=\"https://colab.research.google.com/github/qAp/soil/blob/develop/nbs/00_soilsample_covariates_merge.ipynb\" target=\"_parent\"><img src=\"https://colab.research.google.com/assets/colab-badge.svg\" alt=\"Open In Colab\"/></a>"
      ]
    },
    {
      "cell_type": "markdown",
      "metadata": {
        "id": "gCvCOdgDcDEj"
      },
      "source": [
        "# Merging environmental covariates and soil samples"
      ]
    },
    {
      "cell_type": "code",
      "metadata": {
        "id": "4duQqo5GvPgK",
        "colab": {
          "base_uri": "https://localhost:8080/"
        },
        "outputId": "6ceb6618-4bcd-4c65-9de1-c5cf4132a920"
      },
      "source": [
        "# Installs geemap package\n",
        "import subprocess\n",
        "\n",
        "try:\n",
        "    import geemap\n",
        "except ImportError:\n",
        "    print('geemap package not installed. Installing ...')\n",
        "    subprocess.check_call([\"python\", '-m', 'pip', 'install', 'geemap']) \n",
        "\n",
        "\n",
        "import time\n",
        "import json\n",
        "from pathlib import Path\n",
        "import numpy as np\n",
        "import pandas as pd\n",
        "import ee\n",
        "import geemap    \n",
        "\n",
        "from google.colab import files"
      ],
      "execution_count": 1,
      "outputs": [
        {
          "output_type": "stream",
          "text": [
            "geemap package not installed. Installing ...\n"
          ],
          "name": "stdout"
        }
      ]
    },
    {
      "cell_type": "code",
      "metadata": {
        "colab": {
          "base_uri": "https://localhost:8080/"
        },
        "id": "D4hkbhbHCoUr",
        "outputId": "bd99203f-6b25-46d7-9bcc-915b65a519af"
      },
      "source": [
        "ee.Authenticate()\n",
        "ee.Initialize()"
      ],
      "execution_count": 2,
      "outputs": [
        {
          "output_type": "stream",
          "text": [
            "To authorize access needed by Earth Engine, open the following URL in a web browser and follow the instructions. If the web browser does not start automatically, please manually browse the URL below.\n",
            "\n",
            "    https://accounts.google.com/o/oauth2/auth?client_id=517222506229-vsmmajv00ul0bs7p89v5m89qs8eb9359.apps.googleusercontent.com&scope=https%3A%2F%2Fwww.googleapis.com%2Fauth%2Fearthengine+https%3A%2F%2Fwww.googleapis.com%2Fauth%2Fdevstorage.full_control&redirect_uri=urn%3Aietf%3Awg%3Aoauth%3A2.0%3Aoob&response_type=code&code_challenge=I4Anm769AET4LM6rkkFLgVcYjEPTqPrb3hNYDL6pFzo&code_challenge_method=S256\n",
            "\n",
            "The authorization workflow will generate a code, which you should paste in the box below. \n",
            "Enter verification code: 4/1AY0e-g5NtISw1jFdXSd-nCHZDvSX6SR7W00MNl0_H5gsg7CaxShEMxvEepY\n",
            "\n",
            "Successfully saved authorization token.\n"
          ],
          "name": "stdout"
        }
      ]
    },
    {
      "cell_type": "code",
      "metadata": {
        "colab": {
          "base_uri": "https://localhost:8080/"
        },
        "id": "NN8hgtyteYuA",
        "outputId": "9137df1c-6fee-408b-8678-82c0b4351343"
      },
      "source": [
        "from google.colab import drive\n",
        "drive.mount('/content/drive')"
      ],
      "execution_count": 3,
      "outputs": [
        {
          "output_type": "stream",
          "text": [
            "Mounted at /content/drive\n"
          ],
          "name": "stdout"
        }
      ]
    },
    {
      "cell_type": "markdown",
      "metadata": {
        "id": "W5yIaFRGcP5o"
      },
      "source": [
        "# Data"
      ]
    },
    {
      "cell_type": "markdown",
      "metadata": {
        "id": "5k-3FdNN2ziK"
      },
      "source": [
        "## Soil samples"
      ]
    },
    {
      "cell_type": "code",
      "metadata": {
        "id": "F_V5Xgqb1F0z"
      },
      "source": [
        "# soil_samples = ee.FeatureCollection(\"users/bingosaucer/orgc_stock_ISRIC_WISE_clip_gee\")\n",
        "soil_samples = ee.FeatureCollection(\"users/bingosaucer/orgc_stock_ISCN_clip_gee\")"
      ],
      "execution_count": 4,
      "outputs": []
    },
    {
      "cell_type": "markdown",
      "metadata": {
        "id": "1yP6dq2XZ_9o"
      },
      "source": [
        "## Environmental covariates"
      ]
    },
    {
      "cell_type": "code",
      "metadata": {
        "colab": {
          "base_uri": "https://localhost:8080/",
          "height": 982
        },
        "id": "yVxUuSJoJfnR",
        "outputId": "07d26a17-d9e0-4643-d3d6-f80330646de7"
      },
      "source": [
        "! wget https://www.dropbox.com/s/et2nrdsx8bflpt4/environmental_covariate.csv\n",
        "\n",
        "covariates = pd.read_csv('environmental_covariate.csv')\n",
        "covariates.dropna(axis=0, subset=['Variable', 'GEE ID'], inplace=True)\n",
        "print(covariates.shape)\n",
        "covariates.head()"
      ],
      "execution_count": 5,
      "outputs": [
        {
          "output_type": "stream",
          "text": [
            "--2021-06-03 03:17:21--  https://www.dropbox.com/s/et2nrdsx8bflpt4/environmental_covariate.csv\n",
            "Resolving www.dropbox.com (www.dropbox.com)... 162.125.5.18, 2620:100:601d:18::a27d:512\n",
            "Connecting to www.dropbox.com (www.dropbox.com)|162.125.5.18|:443... connected.\n",
            "HTTP request sent, awaiting response... 301 Moved Permanently\n",
            "Location: /s/raw/et2nrdsx8bflpt4/environmental_covariate.csv [following]\n",
            "--2021-06-03 03:17:21--  https://www.dropbox.com/s/raw/et2nrdsx8bflpt4/environmental_covariate.csv\n",
            "Reusing existing connection to www.dropbox.com:443.\n",
            "HTTP request sent, awaiting response... 302 Found\n",
            "Location: https://uc8c3cfcfedcd93b001549631955.dl.dropboxusercontent.com/cd/0/inline/BPuwXVigNP_bLtyM8GTWRmWaSPoUcE1gl7M6ik9PxfZzFdpaRBl9_VPTSdoPv6VyGWF11eTuFFu4OlpanBMUxQnS9GEhUjoyzqZDNj3hSrkkQSIc8X2rLjx-t5fx041igme5aDDjJ-UVRKWf3kYHOM0o/file# [following]\n",
            "--2021-06-03 03:17:21--  https://uc8c3cfcfedcd93b001549631955.dl.dropboxusercontent.com/cd/0/inline/BPuwXVigNP_bLtyM8GTWRmWaSPoUcE1gl7M6ik9PxfZzFdpaRBl9_VPTSdoPv6VyGWF11eTuFFu4OlpanBMUxQnS9GEhUjoyzqZDNj3hSrkkQSIc8X2rLjx-t5fx041igme5aDDjJ-UVRKWf3kYHOM0o/file\n",
            "Resolving uc8c3cfcfedcd93b001549631955.dl.dropboxusercontent.com (uc8c3cfcfedcd93b001549631955.dl.dropboxusercontent.com)... 162.125.5.15, 2620:100:601d:15::a27d:50f\n",
            "Connecting to uc8c3cfcfedcd93b001549631955.dl.dropboxusercontent.com (uc8c3cfcfedcd93b001549631955.dl.dropboxusercontent.com)|162.125.5.15|:443... connected.\n",
            "HTTP request sent, awaiting response... 200 OK\n",
            "Length: 44967 (44K) [text/plain]\n",
            "Saving to: ‘environmental_covariate.csv’\n",
            "\n",
            "environmental_covar 100%[===================>]  43.91K  --.-KB/s    in 0.02s   \n",
            "\n",
            "2021-06-03 03:17:22 (1.93 MB/s) - ‘environmental_covariate.csv’ saved [44967/44967]\n",
            "\n",
            "(159, 9)\n"
          ],
          "name": "stdout"
        },
        {
          "output_type": "execute_result",
          "data": {
            "text/html": [
              "<div>\n",
              "<style scoped>\n",
              "    .dataframe tbody tr th:only-of-type {\n",
              "        vertical-align: middle;\n",
              "    }\n",
              "\n",
              "    .dataframe tbody tr th {\n",
              "        vertical-align: top;\n",
              "    }\n",
              "\n",
              "    .dataframe thead th {\n",
              "        text-align: right;\n",
              "    }\n",
              "</style>\n",
              "<table border=\"1\" class=\"dataframe\">\n",
              "  <thead>\n",
              "    <tr style=\"text-align: right;\">\n",
              "      <th></th>\n",
              "      <th>#</th>\n",
              "      <th>Variable</th>\n",
              "      <th>Description</th>\n",
              "      <th>Source / Link</th>\n",
              "      <th>doi</th>\n",
              "      <th>File Size (GB)</th>\n",
              "      <th>GEE ID</th>\n",
              "      <th>Unnamed: 7</th>\n",
              "      <th>filename</th>\n",
              "    </tr>\n",
              "  </thead>\n",
              "  <tbody>\n",
              "    <tr>\n",
              "      <th>4</th>\n",
              "      <td>5.0</td>\n",
              "      <td>EarthEnvCloudCover_MODCF_interannualSD</td>\n",
              "      <td>Mean between-year seasonality represented as t...</td>\n",
              "      <td>https://data.earthenv.org/cloud/MODCF_interann...</td>\n",
              "      <td>10.1371/journal. pbio.1002415</td>\n",
              "      <td>0.64</td>\n",
              "      <td>users/bingosaucer/EarthEnvCloudCover_MODCF_int...</td>\n",
              "      <td>NaN</td>\n",
              "      <td>NaN</td>\n",
              "    </tr>\n",
              "    <tr>\n",
              "      <th>5</th>\n",
              "      <td>6.0</td>\n",
              "      <td>EarthEnvCloudCover_MODCF_intraannualSD</td>\n",
              "      <td>Within-year seasonality represented as the sta...</td>\n",
              "      <td>https://data.earthenv.org/cloud/MODCF_intraann...</td>\n",
              "      <td>10.1371/journal. pbio.1002415</td>\n",
              "      <td>0.67</td>\n",
              "      <td>users/bingosaucer/EarthEnvCloudCover_MODCF_int...</td>\n",
              "      <td>NaN</td>\n",
              "      <td>NaN</td>\n",
              "    </tr>\n",
              "    <tr>\n",
              "      <th>6</th>\n",
              "      <td>7.0</td>\n",
              "      <td>EarthEnvCloudCover_MODCF_meanannual</td>\n",
              "      <td>Mean annual cloud frequency (%) over 2000-2014;</td>\n",
              "      <td>https://data.earthenv.org/cloud/MODCF_meanannu...</td>\n",
              "      <td>10.1371/journal. pbio.1002415</td>\n",
              "      <td>0.67</td>\n",
              "      <td>users/bingosaucer/EarthEnvCloudCover_MODCF_mea...</td>\n",
              "      <td>NaN</td>\n",
              "      <td>NaN</td>\n",
              "    </tr>\n",
              "    <tr>\n",
              "      <th>7</th>\n",
              "      <td>8.0</td>\n",
              "      <td>EarthEnvCloudCover_MODCF_seasonality_concentra...</td>\n",
              "      <td>Seasonal cloud concentration index (see method...</td>\n",
              "      <td>https://data.earthenv.org/cloud/MODCF_seasonal...</td>\n",
              "      <td>10.1371/journal. pbio.1002415</td>\n",
              "      <td>0.67</td>\n",
              "      <td>users/bingosaucer/EarthEnvCloudCover_MODCF_sea...</td>\n",
              "      <td>NaN</td>\n",
              "      <td>NaN</td>\n",
              "    </tr>\n",
              "    <tr>\n",
              "      <th>8</th>\n",
              "      <td>9.0</td>\n",
              "      <td>EarthEnvCloudCover_MODCF_seasonality_theta</td>\n",
              "      <td>Timing of peak seasonal cloud concentration (s...</td>\n",
              "      <td>https://data.earthenv.org/cloud/MODCF_seasonal...</td>\n",
              "      <td>10.1371/journal. pbio.1002415</td>\n",
              "      <td>0.67</td>\n",
              "      <td>users/bingosaucer/EarthEnvCloudCover_MODCF_sea...</td>\n",
              "      <td>NaN</td>\n",
              "      <td>NaN</td>\n",
              "    </tr>\n",
              "  </tbody>\n",
              "</table>\n",
              "</div>"
            ],
            "text/plain": [
              "     #                                           Variable  ... Unnamed: 7 filename\n",
              "4  5.0             EarthEnvCloudCover_MODCF_interannualSD  ...        NaN      NaN\n",
              "5  6.0             EarthEnvCloudCover_MODCF_intraannualSD  ...        NaN      NaN\n",
              "6  7.0                EarthEnvCloudCover_MODCF_meanannual  ...        NaN      NaN\n",
              "7  8.0  EarthEnvCloudCover_MODCF_seasonality_concentra...  ...        NaN      NaN\n",
              "8  9.0         EarthEnvCloudCover_MODCF_seasonality_theta  ...        NaN      NaN\n",
              "\n",
              "[5 rows x 9 columns]"
            ]
          },
          "metadata": {
            "tags": []
          },
          "execution_count": 5
        }
      ]
    },
    {
      "cell_type": "markdown",
      "metadata": {
        "id": "F44RbvJxcX89"
      },
      "source": [
        "# Merge workflow"
      ]
    },
    {
      "cell_type": "code",
      "metadata": {
        "id": "3KYFKRMzmkoy"
      },
      "source": [
        "Path.ls = lambda src: list(src.iterdir())"
      ],
      "execution_count": 6,
      "outputs": []
    },
    {
      "cell_type": "code",
      "metadata": {
        "id": "84tuFYJdfUVR"
      },
      "source": [
        "variables = ['EarthEnvCloudCover_MODCF_interannualSD', 'SG_Silt_Content_015cm']"
      ],
      "execution_count": 7,
      "outputs": []
    },
    {
      "cell_type": "code",
      "metadata": {
        "colab": {
          "base_uri": "https://localhost:8080/"
        },
        "id": "T-MEiYtefiyW",
        "outputId": "331092a8-2aac-437e-b33f-41be6659c17a"
      },
      "source": [
        "geeids = covariates[covariates.Variable.isin(variables)]['GEE ID'].values\n",
        "geeids"
      ],
      "execution_count": 8,
      "outputs": [
        {
          "output_type": "execute_result",
          "data": {
            "text/plain": [
              "array(['users/bingosaucer/EarthEnvCloudCover_MODCF_interannualSD',\n",
              "       'users/danvinci/ISRIC/SG_Silt_Content_015cm'], dtype=object)"
            ]
          },
          "metadata": {
            "tags": []
          },
          "execution_count": 8
        }
      ]
    },
    {
      "cell_type": "code",
      "metadata": {
        "id": "0KwLPVTdOelL"
      },
      "source": [
        "imgs = [ee.Image(geeid) for geeid in geeids]\n",
        "imgcollection = ee.ImageCollection(imgs)"
      ],
      "execution_count": 9,
      "outputs": []
    },
    {
      "cell_type": "code",
      "metadata": {
        "id": "pXZJ3Vk5kNUq"
      },
      "source": [
        "def collection2image_stackbands(collection):\n",
        "    '''\n",
        "    Merge images in an image collection to a single image.  Each\n",
        "    image in the collection becomes a band in the output image.\n",
        "    \n",
        "    Args:\n",
        "        collection (ee.ImageCollection): Image collection.\n",
        "    '''\n",
        "    img = collection.iterate(lambda curr, prev: ee.Image(prev).addBands(curr), ee.Image(1))\n",
        "    img = ee.Image(img)\n",
        "    ibands = ee.List.sequence(1, img.bandNames().size().subtract(1))\n",
        "    return img.select(ibands)"
      ],
      "execution_count": 10,
      "outputs": []
    },
    {
      "cell_type": "code",
      "metadata": {
        "colab": {
          "base_uri": "https://localhost:8080/"
        },
        "id": "BDIiDuyJOm8z",
        "outputId": "376c3d6a-7912-4f27-a51b-bf52d240c70e"
      },
      "source": [
        "img = collection2image_stackbands(imgcollection)\n",
        "img = img.rename(variables)\n",
        "img.bandNames().getInfo()"
      ],
      "execution_count": 11,
      "outputs": [
        {
          "output_type": "execute_result",
          "data": {
            "text/plain": [
              "['EarthEnvCloudCover_MODCF_interannualSD', 'SG_Silt_Content_015cm']"
            ]
          },
          "metadata": {
            "tags": []
          },
          "execution_count": 11
        }
      ]
    },
    {
      "cell_type": "code",
      "metadata": {
        "colab": {
          "base_uri": "https://localhost:8080/",
          "height": 491
        },
        "id": "CI4W9vQ9OpPa",
        "outputId": "13e30fcc-e7af-4598-d0ad-fdf1bf7ad6ec"
      },
      "source": [
        "Map = geemap.Map(center=(40, -100), zoom=2)\n",
        "for variable in variables:\n",
        "    Map.addLayer(img.select(variable), \n",
        "                {'palette': ['#ffffcc', '#e31a1c', '#bd0026', '#800026'], \n",
        "                 'min':0, 'max':100},\n",
        "                variable, True, 0.3)\n",
        "Map.addLayer(soil_samples, {}, \"soil_samples\")\n",
        "Map"
      ],
      "execution_count": 12,
      "outputs": [
        {
          "output_type": "execute_result",
          "data": {
            "text/html": [
              "<div style=\"width:100%;\"><div style=\"position:relative;width:100%;height:0;padding-bottom:60%;\"><span style=\"color:#565656\">Make this Notebook Trusted to load map: File -> Trust Notebook</span><iframe src=\"about:blank\" style=\"position:absolute;width:100%;height:100%;left:0;top:0;border:none !important;\" data-html=%3C%21DOCTYPE%20html%3E%0A%3Chead%3E%20%20%20%20%0A%20%20%20%20%3Cmeta%20http-equiv%3D%22content-type%22%20content%3D%22text/html%3B%20charset%3DUTF-8%22%20/%3E%0A%20%20%20%20%0A%20%20%20%20%20%20%20%20%3Cscript%3E%0A%20%20%20%20%20%20%20%20%20%20%20%20L_NO_TOUCH%20%3D%20false%3B%0A%20%20%20%20%20%20%20%20%20%20%20%20L_DISABLE_3D%20%3D%20false%3B%0A%20%20%20%20%20%20%20%20%3C/script%3E%0A%20%20%20%20%0A%20%20%20%20%3Cstyle%3Ehtml%2C%20body%20%7Bwidth%3A%20100%25%3Bheight%3A%20100%25%3Bmargin%3A%200%3Bpadding%3A%200%3B%7D%3C/style%3E%0A%20%20%20%20%3Cstyle%3E%23map%20%7Bposition%3Aabsolute%3Btop%3A0%3Bbottom%3A0%3Bright%3A0%3Bleft%3A0%3B%7D%3C/style%3E%0A%20%20%20%20%3Cscript%20src%3D%22https%3A//cdn.jsdelivr.net/npm/leaflet%401.6.0/dist/leaflet.js%22%3E%3C/script%3E%0A%20%20%20%20%3Cscript%20src%3D%22https%3A//code.jquery.com/jquery-1.12.4.min.js%22%3E%3C/script%3E%0A%20%20%20%20%3Cscript%20src%3D%22https%3A//maxcdn.bootstrapcdn.com/bootstrap/3.2.0/js/bootstrap.min.js%22%3E%3C/script%3E%0A%20%20%20%20%3Cscript%20src%3D%22https%3A//cdnjs.cloudflare.com/ajax/libs/Leaflet.awesome-markers/2.0.2/leaflet.awesome-markers.js%22%3E%3C/script%3E%0A%20%20%20%20%3Clink%20rel%3D%22stylesheet%22%20href%3D%22https%3A//cdn.jsdelivr.net/npm/leaflet%401.6.0/dist/leaflet.css%22/%3E%0A%20%20%20%20%3Clink%20rel%3D%22stylesheet%22%20href%3D%22https%3A//maxcdn.bootstrapcdn.com/bootstrap/3.2.0/css/bootstrap.min.css%22/%3E%0A%20%20%20%20%3Clink%20rel%3D%22stylesheet%22%20href%3D%22https%3A//maxcdn.bootstrapcdn.com/bootstrap/3.2.0/css/bootstrap-theme.min.css%22/%3E%0A%20%20%20%20%3Clink%20rel%3D%22stylesheet%22%20href%3D%22https%3A//maxcdn.bootstrapcdn.com/font-awesome/4.6.3/css/font-awesome.min.css%22/%3E%0A%20%20%20%20%3Clink%20rel%3D%22stylesheet%22%20href%3D%22https%3A//cdnjs.cloudflare.com/ajax/libs/Leaflet.awesome-markers/2.0.2/leaflet.awesome-markers.css%22/%3E%0A%20%20%20%20%3Clink%20rel%3D%22stylesheet%22%20href%3D%22https%3A//cdn.jsdelivr.net/gh/python-visualization/folium/folium/templates/leaflet.awesome.rotate.min.css%22/%3E%0A%20%20%20%20%0A%20%20%20%20%20%20%20%20%20%20%20%20%3Cmeta%20name%3D%22viewport%22%20content%3D%22width%3Ddevice-width%2C%0A%20%20%20%20%20%20%20%20%20%20%20%20%20%20%20%20initial-scale%3D1.0%2C%20maximum-scale%3D1.0%2C%20user-scalable%3Dno%22%20/%3E%0A%20%20%20%20%20%20%20%20%20%20%20%20%3Cstyle%3E%0A%20%20%20%20%20%20%20%20%20%20%20%20%20%20%20%20%23map_c482107ad3eb4ee38104dffc2caeb31d%20%7B%0A%20%20%20%20%20%20%20%20%20%20%20%20%20%20%20%20%20%20%20%20position%3A%20relative%3B%0A%20%20%20%20%20%20%20%20%20%20%20%20%20%20%20%20%20%20%20%20width%3A%20100.0%25%3B%0A%20%20%20%20%20%20%20%20%20%20%20%20%20%20%20%20%20%20%20%20height%3A%20100.0%25%3B%0A%20%20%20%20%20%20%20%20%20%20%20%20%20%20%20%20%20%20%20%20left%3A%200.0%25%3B%0A%20%20%20%20%20%20%20%20%20%20%20%20%20%20%20%20%20%20%20%20top%3A%200.0%25%3B%0A%20%20%20%20%20%20%20%20%20%20%20%20%20%20%20%20%7D%0A%20%20%20%20%20%20%20%20%20%20%20%20%3C/style%3E%0A%20%20%20%20%20%20%20%20%0A%20%20%20%20%3Cscript%20src%3D%22https%3A//cdnjs.cloudflare.com/ajax/libs/leaflet.fullscreen/1.4.2/Control.FullScreen.min.js%22%3E%3C/script%3E%0A%20%20%20%20%3Clink%20rel%3D%22stylesheet%22%20href%3D%22https%3A//cdnjs.cloudflare.com/ajax/libs/leaflet.fullscreen/1.4.2/Control.FullScreen.min.css%22/%3E%0A%3C/head%3E%0A%3Cbody%3E%20%20%20%20%0A%20%20%20%20%0A%20%20%20%20%20%20%20%20%20%20%20%20%3Cdiv%20class%3D%22folium-map%22%20id%3D%22map_c482107ad3eb4ee38104dffc2caeb31d%22%20%3E%3C/div%3E%0A%20%20%20%20%20%20%20%20%0A%3C/body%3E%0A%3Cscript%3E%20%20%20%20%0A%20%20%20%20%0A%20%20%20%20%20%20%20%20%20%20%20%20var%20map_c482107ad3eb4ee38104dffc2caeb31d%20%3D%20L.map%28%0A%20%20%20%20%20%20%20%20%20%20%20%20%20%20%20%20%22map_c482107ad3eb4ee38104dffc2caeb31d%22%2C%0A%20%20%20%20%20%20%20%20%20%20%20%20%20%20%20%20%7B%0A%20%20%20%20%20%20%20%20%20%20%20%20%20%20%20%20%20%20%20%20center%3A%20%5B40.0%2C%20-100.0%5D%2C%0A%20%20%20%20%20%20%20%20%20%20%20%20%20%20%20%20%20%20%20%20crs%3A%20L.CRS.EPSG3857%2C%0A%20%20%20%20%20%20%20%20%20%20%20%20%20%20%20%20%20%20%20%20zoom%3A%202%2C%0A%20%20%20%20%20%20%20%20%20%20%20%20%20%20%20%20%20%20%20%20zoomControl%3A%20true%2C%0A%20%20%20%20%20%20%20%20%20%20%20%20%20%20%20%20%20%20%20%20preferCanvas%3A%20false%2C%0A%20%20%20%20%20%20%20%20%20%20%20%20%20%20%20%20%20%20%20%20eeInitialize%3A%20true%2C%0A%20%20%20%20%20%20%20%20%20%20%20%20%20%20%20%20%20%20%20%20addGoogleMap%3A%20true%2C%0A%20%20%20%20%20%20%20%20%20%20%20%20%20%20%20%20%20%20%20%20pluginLatlngpopup%3A%20true%2C%0A%20%20%20%20%20%20%20%20%20%20%20%20%20%20%20%20%20%20%20%20pluginFullscreen%3A%20true%2C%0A%20%20%20%20%20%20%20%20%20%20%20%20%20%20%20%20%20%20%20%20pluginDraw%3A%20false%2C%0A%20%20%20%20%20%20%20%20%20%20%20%20%20%20%20%20%20%20%20%20DrawExport%3A%20true%2C%0A%20%20%20%20%20%20%20%20%20%20%20%20%20%20%20%20%20%20%20%20pluginMinimap%3A%20false%2C%0A%20%20%20%20%20%20%20%20%20%20%20%20%20%20%20%20%20%20%20%20pluginLayercontrol%3A%20false%2C%0A%20%20%20%20%20%20%20%20%20%20%20%20%20%20%20%20%7D%0A%20%20%20%20%20%20%20%20%20%20%20%20%29%3B%0A%0A%20%20%20%20%20%20%20%20%20%20%20%20%0A%0A%20%20%20%20%20%20%20%20%0A%20%20%20%20%0A%20%20%20%20%20%20%20%20%20%20%20%20var%20tile_layer_0dbfc202156a457d8ed60b007cba2da5%20%3D%20L.tileLayer%28%0A%20%20%20%20%20%20%20%20%20%20%20%20%20%20%20%20%22https%3A//%7Bs%7D.tile.openstreetmap.org/%7Bz%7D/%7Bx%7D/%7By%7D.png%22%2C%0A%20%20%20%20%20%20%20%20%20%20%20%20%20%20%20%20%7B%22attribution%22%3A%20%22Data%20by%20%5Cu0026copy%3B%20%5Cu003ca%20href%3D%5C%22http%3A//openstreetmap.org%5C%22%5Cu003eOpenStreetMap%5Cu003c/a%5Cu003e%2C%20under%20%5Cu003ca%20href%3D%5C%22http%3A//www.openstreetmap.org/copyright%5C%22%5Cu003eODbL%5Cu003c/a%5Cu003e.%22%2C%20%22detectRetina%22%3A%20false%2C%20%22maxNativeZoom%22%3A%2018%2C%20%22maxZoom%22%3A%2018%2C%20%22minZoom%22%3A%200%2C%20%22noWrap%22%3A%20false%2C%20%22opacity%22%3A%201%2C%20%22subdomains%22%3A%20%22abc%22%2C%20%22tms%22%3A%20false%7D%0A%20%20%20%20%20%20%20%20%20%20%20%20%29.addTo%28map_c482107ad3eb4ee38104dffc2caeb31d%29%3B%0A%20%20%20%20%20%20%20%20%0A%20%20%20%20%0A%20%20%20%20%20%20%20%20%20%20%20%20var%20tile_layer_105f9f08b5b448ad9726a59f32e445ea%20%3D%20L.tileLayer%28%0A%20%20%20%20%20%20%20%20%20%20%20%20%20%20%20%20%22https%3A//mt1.google.com/vt/lyrs%3Dm%5Cu0026x%3D%7Bx%7D%5Cu0026y%3D%7By%7D%5Cu0026z%3D%7Bz%7D%22%2C%0A%20%20%20%20%20%20%20%20%20%20%20%20%20%20%20%20%7B%22attribution%22%3A%20%22Google%22%2C%20%22detectRetina%22%3A%20false%2C%20%22maxNativeZoom%22%3A%2018%2C%20%22maxZoom%22%3A%2018%2C%20%22minZoom%22%3A%200%2C%20%22noWrap%22%3A%20false%2C%20%22opacity%22%3A%201%2C%20%22subdomains%22%3A%20%22abc%22%2C%20%22tms%22%3A%20false%7D%0A%20%20%20%20%20%20%20%20%20%20%20%20%29.addTo%28map_c482107ad3eb4ee38104dffc2caeb31d%29%3B%0A%20%20%20%20%20%20%20%20%0A%20%20%20%20%0A%20%20%20%20%20%20%20%20%20%20%20%20%20%20%20%20var%20lat_lng_popup_540ede83d14b4a83a4bb0d7eb6d8853d%20%3D%20L.popup%28%29%3B%0A%20%20%20%20%20%20%20%20%20%20%20%20%20%20%20%20function%20latLngPop%28e%29%20%7B%0A%20%20%20%20%20%20%20%20%20%20%20%20%20%20%20%20%20%20%20%20lat_lng_popup_540ede83d14b4a83a4bb0d7eb6d8853d%0A%20%20%20%20%20%20%20%20%20%20%20%20%20%20%20%20%20%20%20%20%20%20%20%20.setLatLng%28e.latlng%29%0A%20%20%20%20%20%20%20%20%20%20%20%20%20%20%20%20%20%20%20%20%20%20%20%20.setContent%28%22Latitude%3A%20%22%20%2B%20e.latlng.lat.toFixed%284%29%20%2B%0A%20%20%20%20%20%20%20%20%20%20%20%20%20%20%20%20%20%20%20%20%20%20%20%20%20%20%20%20%20%20%20%20%20%20%20%20%22%3Cbr%3ELongitude%3A%20%22%20%2B%20e.latlng.lng.toFixed%284%29%29%0A%20%20%20%20%20%20%20%20%20%20%20%20%20%20%20%20%20%20%20%20%20%20%20%20.openOn%28map_c482107ad3eb4ee38104dffc2caeb31d%29%3B%0A%20%20%20%20%20%20%20%20%20%20%20%20%20%20%20%20%20%20%20%20%7D%0A%20%20%20%20%20%20%20%20%20%20%20%20%20%20%20%20map_c482107ad3eb4ee38104dffc2caeb31d.on%28%27click%27%2C%20latLngPop%29%3B%0A%20%20%20%20%20%20%20%20%20%20%20%20%0A%20%20%20%20%0A%20%20%20%20%20%20%20%20%20%20%20%20L.control.fullscreen%28%0A%20%20%20%20%20%20%20%20%20%20%20%20%20%20%20%20%7B%22forceSeparateButton%22%3A%20false%2C%20%22position%22%3A%20%22topleft%22%2C%20%22title%22%3A%20%22Full%20Screen%22%2C%20%22titleCancel%22%3A%20%22Exit%20Full%20Screen%22%7D%0A%20%20%20%20%20%20%20%20%20%20%20%20%29.addTo%28map_c482107ad3eb4ee38104dffc2caeb31d%29%3B%0A%20%20%20%20%20%20%20%20%0A%20%20%20%20%0A%20%20%20%20%20%20%20%20%20%20%20%20map_c482107ad3eb4ee38104dffc2caeb31d.fitBounds%28%0A%20%20%20%20%20%20%20%20%20%20%20%20%20%20%20%20%5B%5B40%2C%20-100%5D%2C%20%5B40%2C%20-100%5D%5D%2C%0A%20%20%20%20%20%20%20%20%20%20%20%20%20%20%20%20%7B%22maxZoom%22%3A%202%7D%0A%20%20%20%20%20%20%20%20%20%20%20%20%29%3B%0A%20%20%20%20%20%20%20%20%0A%20%20%20%20%0A%20%20%20%20%20%20%20%20%20%20%20%20var%20tile_layer_6e6f8989cb574f608845427945283c97%20%3D%20L.tileLayer%28%0A%20%20%20%20%20%20%20%20%20%20%20%20%20%20%20%20%22https%3A//earthengine.googleapis.com/v1alpha/projects/earthengine-legacy/maps/7735ef4e02dc18b060c6ec5005e8c2c8-c4da7a8aa7b0c1d963a65cc03bf7cfbd/tiles/%7Bz%7D/%7Bx%7D/%7By%7D%22%2C%0A%20%20%20%20%20%20%20%20%20%20%20%20%20%20%20%20%7B%22attribution%22%3A%20%22Google%20Earth%20Engine%22%2C%20%22detectRetina%22%3A%20false%2C%20%22maxNativeZoom%22%3A%2018%2C%20%22maxZoom%22%3A%2018%2C%20%22minZoom%22%3A%200%2C%20%22noWrap%22%3A%20false%2C%20%22opacity%22%3A%200.3%2C%20%22subdomains%22%3A%20%22abc%22%2C%20%22tms%22%3A%20false%7D%0A%20%20%20%20%20%20%20%20%20%20%20%20%29.addTo%28map_c482107ad3eb4ee38104dffc2caeb31d%29%3B%0A%20%20%20%20%20%20%20%20%0A%20%20%20%20%0A%20%20%20%20%20%20%20%20%20%20%20%20var%20tile_layer_56d6244c58a4412ea414a80509771e03%20%3D%20L.tileLayer%28%0A%20%20%20%20%20%20%20%20%20%20%20%20%20%20%20%20%22https%3A//earthengine.googleapis.com/v1alpha/projects/earthengine-legacy/maps/1a4fe12509a73bf8d3ba5a4abd7eaed7-a643dcd3c6897e868e46430f6c59e278/tiles/%7Bz%7D/%7Bx%7D/%7By%7D%22%2C%0A%20%20%20%20%20%20%20%20%20%20%20%20%20%20%20%20%7B%22attribution%22%3A%20%22Google%20Earth%20Engine%22%2C%20%22detectRetina%22%3A%20false%2C%20%22maxNativeZoom%22%3A%2018%2C%20%22maxZoom%22%3A%2018%2C%20%22minZoom%22%3A%200%2C%20%22noWrap%22%3A%20false%2C%20%22opacity%22%3A%200.3%2C%20%22subdomains%22%3A%20%22abc%22%2C%20%22tms%22%3A%20false%7D%0A%20%20%20%20%20%20%20%20%20%20%20%20%29.addTo%28map_c482107ad3eb4ee38104dffc2caeb31d%29%3B%0A%20%20%20%20%20%20%20%20%0A%20%20%20%20%0A%20%20%20%20%20%20%20%20%20%20%20%20var%20tile_layer_40dd347028c24dd192675d27e2cb09c2%20%3D%20L.tileLayer%28%0A%20%20%20%20%20%20%20%20%20%20%20%20%20%20%20%20%22https%3A//earthengine.googleapis.com/v1alpha/projects/earthengine-legacy/maps/dd0041facb1bfcebb8d16a1ef0d30a06-223c7a256c40dfd40530e5c2d82e84fb/tiles/%7Bz%7D/%7Bx%7D/%7By%7D%22%2C%0A%20%20%20%20%20%20%20%20%20%20%20%20%20%20%20%20%7B%22attribution%22%3A%20%22Google%20Earth%20Engine%22%2C%20%22detectRetina%22%3A%20false%2C%20%22maxNativeZoom%22%3A%2018%2C%20%22maxZoom%22%3A%2018%2C%20%22minZoom%22%3A%200%2C%20%22noWrap%22%3A%20false%2C%20%22opacity%22%3A%201.0%2C%20%22subdomains%22%3A%20%22abc%22%2C%20%22tms%22%3A%20false%7D%0A%20%20%20%20%20%20%20%20%20%20%20%20%29.addTo%28map_c482107ad3eb4ee38104dffc2caeb31d%29%3B%0A%20%20%20%20%20%20%20%20%0A%20%20%20%20%0A%20%20%20%20%20%20%20%20%20%20%20%20var%20layer_control_8825a91e246b431d99a1c6fa8d4fe53f%20%3D%20%7B%0A%20%20%20%20%20%20%20%20%20%20%20%20%20%20%20%20base_layers%20%3A%20%7B%0A%20%20%20%20%20%20%20%20%20%20%20%20%20%20%20%20%20%20%20%20%22openstreetmap%22%20%3A%20tile_layer_0dbfc202156a457d8ed60b007cba2da5%2C%0A%20%20%20%20%20%20%20%20%20%20%20%20%20%20%20%20%7D%2C%0A%20%20%20%20%20%20%20%20%20%20%20%20%20%20%20%20overlays%20%3A%20%20%7B%0A%20%20%20%20%20%20%20%20%20%20%20%20%20%20%20%20%20%20%20%20%22Google%20Maps%22%20%3A%20tile_layer_105f9f08b5b448ad9726a59f32e445ea%2C%0A%20%20%20%20%20%20%20%20%20%20%20%20%20%20%20%20%20%20%20%20%22EarthEnvCloudCover_MODCF_interannualSD%22%20%3A%20tile_layer_6e6f8989cb574f608845427945283c97%2C%0A%20%20%20%20%20%20%20%20%20%20%20%20%20%20%20%20%20%20%20%20%22SG_Silt_Content_015cm%22%20%3A%20tile_layer_56d6244c58a4412ea414a80509771e03%2C%0A%20%20%20%20%20%20%20%20%20%20%20%20%20%20%20%20%20%20%20%20%22soil_samples%22%20%3A%20tile_layer_40dd347028c24dd192675d27e2cb09c2%2C%0A%20%20%20%20%20%20%20%20%20%20%20%20%20%20%20%20%7D%2C%0A%20%20%20%20%20%20%20%20%20%20%20%20%7D%3B%0A%20%20%20%20%20%20%20%20%20%20%20%20L.control.layers%28%0A%20%20%20%20%20%20%20%20%20%20%20%20%20%20%20%20layer_control_8825a91e246b431d99a1c6fa8d4fe53f.base_layers%2C%0A%20%20%20%20%20%20%20%20%20%20%20%20%20%20%20%20layer_control_8825a91e246b431d99a1c6fa8d4fe53f.overlays%2C%0A%20%20%20%20%20%20%20%20%20%20%20%20%20%20%20%20%7B%22autoZIndex%22%3A%20true%2C%20%22collapsed%22%3A%20true%2C%20%22position%22%3A%20%22topright%22%7D%0A%20%20%20%20%20%20%20%20%20%20%20%20%29.addTo%28map_c482107ad3eb4ee38104dffc2caeb31d%29%3B%0A%20%20%20%20%20%20%20%20%0A%3C/script%3E onload=\"this.contentDocument.open();this.contentDocument.write(    decodeURIComponent(this.getAttribute('data-html')));this.contentDocument.close();\" allowfullscreen webkitallowfullscreen mozallowfullscreen></iframe></div></div>"
            ],
            "text/plain": [
              "<geemap.eefolium.Map at 0x7efd01152210>"
            ]
          },
          "metadata": {
            "tags": []
          },
          "execution_count": 12
        }
      ]
    },
    {
      "cell_type": "code",
      "metadata": {
        "id": "bpv6wo-yOsYB",
        "colab": {
          "base_uri": "https://localhost:8080/"
        },
        "outputId": "23702ce1-d4b1-4e59-f0b8-dc9fdfc59030"
      },
      "source": [
        "result = img.reduceRegions(soil_samples, ee.Reducer.mean())\n",
        "result.size().getInfo(), result.first().getInfo()"
      ],
      "execution_count": 13,
      "outputs": [
        {
          "output_type": "execute_result",
          "data": {
            "text/plain": [
              "(32393,\n",
              " {'geometry': {'coordinates': [-103.14140190346887, 46.351347693731825],\n",
              "   'type': 'Point'},\n",
              "  'id': '00000000000000006b80',\n",
              "  'properties': {'EarthEnvCloudCover_MODCF_interannualSD': 1100,\n",
              "   'SG_Silt_Content_015cm': 45,\n",
              "   'bot_cm': 30,\n",
              "   'datetime': 1964,\n",
              "   'mineral_fraction': 2,\n",
              "   'organic_fraction': 0,\n",
              "   'orgc_stock_mineral': 7.006440000000001,\n",
              "   'orgc_stock_organic': 0,\n",
              "   'profile_id': '64ND087002_40A1382',\n",
              "   'top_cm': 0},\n",
              "  'type': 'Feature'})"
            ]
          },
          "metadata": {
            "tags": []
          },
          "execution_count": 13
        }
      ]
    },
    {
      "cell_type": "markdown",
      "metadata": {
        "id": "Sw5XsAP6nGnh"
      },
      "source": [
        "Exporting to Google Drive as CSV file."
      ]
    },
    {
      "cell_type": "code",
      "metadata": {
        "id": "TVD3OsuYQFis"
      },
      "source": [
        "csv_name = 'test_dataset'"
      ],
      "execution_count": 18,
      "outputs": []
    },
    {
      "cell_type": "code",
      "metadata": {
        "id": "dRnhB1dRl590"
      },
      "source": [
        "pth = Path('/content/drive/MyDrive') / f'{csv_name}.csv'\n",
        "if pth.exists():\n",
        "    pth.unlink()\n",
        "\n",
        "task = ee.batch.Export.table.toDrive(\n",
        "    collection=result, description=csv_name, fileFormat='CSV')\n",
        "\n",
        "task.start()"
      ],
      "execution_count": 19,
      "outputs": []
    },
    {
      "cell_type": "code",
      "metadata": {
        "colab": {
          "base_uri": "https://localhost:8080/"
        },
        "id": "2EnhcqUflf2m",
        "outputId": "55f73ba7-563c-46f6-d201-36a9007f608c"
      },
      "source": [
        "while task.active():\n",
        "    print(f'Polling for task (id: {task.id}).')\n",
        "    time.sleep(5)"
      ],
      "execution_count": 20,
      "outputs": [
        {
          "output_type": "stream",
          "text": [
            "Polling for task (id: 2CF2CMJRYC7HN7O6XYPKUDOR).\n",
            "Polling for task (id: 2CF2CMJRYC7HN7O6XYPKUDOR).\n"
          ],
          "name": "stdout"
        }
      ]
    },
    {
      "cell_type": "markdown",
      "metadata": {
        "id": "QYpdrnLIrH2B"
      },
      "source": [
        "Load saved CSV into dataframe and replace the `.geo` column with `longitude` and `latitude` columns."
      ]
    },
    {
      "cell_type": "code",
      "metadata": {
        "id": "jscQ0YfmmCIw"
      },
      "source": [
        "df = pd.read_csv(pth)\n",
        "\n",
        "json.loads(df['.geo'].iloc[0])['coordinates']\n",
        "df['longitude'] = df['.geo'].apply(lambda x: json.loads(x)['coordinates'][0])\n",
        "df['latitude'] = df['.geo'].apply(lambda x: json.loads(x)['coordinates'][1])\n",
        "\n",
        "df.drop(['system:index', '.geo'], axis=1, inplace=True)"
      ],
      "execution_count": 21,
      "outputs": []
    },
    {
      "cell_type": "code",
      "metadata": {
        "colab": {
          "base_uri": "https://localhost:8080/",
          "height": 226
        },
        "id": "u6UeMIuqnrFX",
        "outputId": "6a42b26d-ae35-4802-b726-cff67e060ded"
      },
      "source": [
        "df.head()"
      ],
      "execution_count": 22,
      "outputs": [
        {
          "output_type": "execute_result",
          "data": {
            "text/html": [
              "<div>\n",
              "<style scoped>\n",
              "    .dataframe tbody tr th:only-of-type {\n",
              "        vertical-align: middle;\n",
              "    }\n",
              "\n",
              "    .dataframe tbody tr th {\n",
              "        vertical-align: top;\n",
              "    }\n",
              "\n",
              "    .dataframe thead th {\n",
              "        text-align: right;\n",
              "    }\n",
              "</style>\n",
              "<table border=\"1\" class=\"dataframe\">\n",
              "  <thead>\n",
              "    <tr style=\"text-align: right;\">\n",
              "      <th></th>\n",
              "      <th>EarthEnvCloudCover_MODCF_interannualSD</th>\n",
              "      <th>SG_Silt_Content_015cm</th>\n",
              "      <th>bot_cm</th>\n",
              "      <th>datetime</th>\n",
              "      <th>mineral_fraction</th>\n",
              "      <th>organic_fraction</th>\n",
              "      <th>orgc_stock_mineral</th>\n",
              "      <th>orgc_stock_organic</th>\n",
              "      <th>profile_id</th>\n",
              "      <th>top_cm</th>\n",
              "      <th>longitude</th>\n",
              "      <th>latitude</th>\n",
              "    </tr>\n",
              "  </thead>\n",
              "  <tbody>\n",
              "    <tr>\n",
              "      <th>0</th>\n",
              "      <td>1100.0</td>\n",
              "      <td>45.0</td>\n",
              "      <td>30.0</td>\n",
              "      <td>1964</td>\n",
              "      <td>2.0</td>\n",
              "      <td>0.0</td>\n",
              "      <td>7.00644</td>\n",
              "      <td>0.0</td>\n",
              "      <td>64ND087002_40A1382</td>\n",
              "      <td>0.0</td>\n",
              "      <td>-103.141402</td>\n",
              "      <td>46.351348</td>\n",
              "    </tr>\n",
              "    <tr>\n",
              "      <th>1</th>\n",
              "      <td>993.0</td>\n",
              "      <td>60.0</td>\n",
              "      <td>30.0</td>\n",
              "      <td>1966</td>\n",
              "      <td>2.0</td>\n",
              "      <td>0.0</td>\n",
              "      <td>14.23080</td>\n",
              "      <td>0.0</td>\n",
              "      <td>S1966IL107001_40A2008</td>\n",
              "      <td>0.0</td>\n",
              "      <td>-89.326942</td>\n",
              "      <td>40.263609</td>\n",
              "    </tr>\n",
              "    <tr>\n",
              "      <th>2</th>\n",
              "      <td>1058.0</td>\n",
              "      <td>73.0</td>\n",
              "      <td>30.0</td>\n",
              "      <td>1981</td>\n",
              "      <td>2.0</td>\n",
              "      <td>0.0</td>\n",
              "      <td>5.43600</td>\n",
              "      <td>0.0</td>\n",
              "      <td>1981IL133003_83P0357</td>\n",
              "      <td>0.0</td>\n",
              "      <td>-90.256392</td>\n",
              "      <td>38.240551</td>\n",
              "    </tr>\n",
              "    <tr>\n",
              "      <th>3</th>\n",
              "      <td>988.0</td>\n",
              "      <td>64.0</td>\n",
              "      <td>30.0</td>\n",
              "      <td>1987</td>\n",
              "      <td>2.0</td>\n",
              "      <td>0.0</td>\n",
              "      <td>17.41257</td>\n",
              "      <td>0.0</td>\n",
              "      <td>1987IL109068_88P0084</td>\n",
              "      <td>0.0</td>\n",
              "      <td>-90.689451</td>\n",
              "      <td>40.491661</td>\n",
              "    </tr>\n",
              "    <tr>\n",
              "      <th>4</th>\n",
              "      <td>945.0</td>\n",
              "      <td>62.0</td>\n",
              "      <td>30.0</td>\n",
              "      <td>1988</td>\n",
              "      <td>2.0</td>\n",
              "      <td>0.0</td>\n",
              "      <td>12.13996</td>\n",
              "      <td>0.0</td>\n",
              "      <td>1988IL067025_88P0797</td>\n",
              "      <td>0.0</td>\n",
              "      <td>-91.031389</td>\n",
              "      <td>40.547217</td>\n",
              "    </tr>\n",
              "  </tbody>\n",
              "</table>\n",
              "</div>"
            ],
            "text/plain": [
              "   EarthEnvCloudCover_MODCF_interannualSD  ...   latitude\n",
              "0                                  1100.0  ...  46.351348\n",
              "1                                   993.0  ...  40.263609\n",
              "2                                  1058.0  ...  38.240551\n",
              "3                                   988.0  ...  40.491661\n",
              "4                                   945.0  ...  40.547217\n",
              "\n",
              "[5 rows x 12 columns]"
            ]
          },
          "metadata": {
            "tags": []
          },
          "execution_count": 22
        }
      ]
    },
    {
      "cell_type": "markdown",
      "metadata": {
        "id": "sTO9LzEmjaF8"
      },
      "source": [
        "# Merging selected sets of covariates "
      ]
    },
    {
      "cell_type": "markdown",
      "metadata": {
        "id": "vWxQqPVJdVJe"
      },
      "source": [
        "Check how this workflow works for selected sets of covariates, such as EarthEnv, "
      ]
    },
    {
      "cell_type": "markdown",
      "metadata": {
        "id": "ZYyJZWcf49Zl"
      },
      "source": [
        "## Consensus landcover"
      ]
    },
    {
      "cell_type": "code",
      "metadata": {
        "id": "hOCWi16154Ow"
      },
      "source": [
        "def consensus_landcover_labels():\n",
        "    '''\n",
        "    https://www.earthenv.org/landcover\n",
        "    \n",
        "    Returns: Global 1-km Consensus Land Cover classes\n",
        "    '''\n",
        "    return ['Evergreen/Deciduous Needleleaf Trees', 'Evergreen Broadleaf Trees', 'Deciduous Broadleaf Trees', \n",
        "            'Mixed/Other Trees', 'Shrubs', 'Herbaceous Vegetation', 'Cultivated and Managed Vegetation',\n",
        "            'Regularly Flooded Vegetation', 'Urban/Built-up', 'Snow/Ice', 'Barren', 'Open Water']\n",
        "\n",
        "def consensus_landcover_geeid():\n",
        "    return 'users/bingosaucer/ConsensusLandCover_Human_Development_Percentage'"
      ],
      "execution_count": 23,
      "outputs": []
    },
    {
      "cell_type": "code",
      "metadata": {
        "colab": {
          "base_uri": "https://localhost:8080/"
        },
        "id": "lwxG21uc5GFm",
        "outputId": "8f84196a-2169-4545-817d-8e2ca9e4813a"
      },
      "source": [
        "imgcollection = ee.ImageCollection(consensus_landcover_geeid())\n",
        "img = collection2image_stackbands(imgcollection)\n",
        "img = img.rename(consensus_landcover_labels())\n",
        "result = img.reduceRegions(soil_samples, ee.Reducer.mean())\n",
        "result.size().getInfo(), result.first().getInfo()"
      ],
      "execution_count": 25,
      "outputs": [
        {
          "output_type": "execute_result",
          "data": {
            "text/plain": [
              "(32393,\n",
              " {'geometry': {'coordinates': [-103.14140190346887, 46.351347693731825],\n",
              "   'type': 'Point'},\n",
              "  'id': '00000000000000006b80',\n",
              "  'properties': {'Barren': 0,\n",
              "   'Cultivated and Managed Vegetation': 11,\n",
              "   'Deciduous Broadleaf Trees': 0,\n",
              "   'Evergreen Broadleaf Trees': 0,\n",
              "   'Evergreen/Deciduous Needleleaf Trees': 0,\n",
              "   'Herbaceous Vegetation': 0,\n",
              "   'Mixed/Other Trees': 0,\n",
              "   'Open Water': 0,\n",
              "   'Regularly Flooded Vegetation': 0,\n",
              "   'Shrubs': 0,\n",
              "   'Snow/Ice': 0,\n",
              "   'Urban/Built-up': 89,\n",
              "   'bot_cm': 30,\n",
              "   'datetime': 1964,\n",
              "   'mineral_fraction': 2,\n",
              "   'organic_fraction': 0,\n",
              "   'orgc_stock_mineral': 7.006440000000001,\n",
              "   'orgc_stock_organic': 0,\n",
              "   'profile_id': '64ND087002_40A1382',\n",
              "   'top_cm': 0},\n",
              "  'type': 'Feature'})"
            ]
          },
          "metadata": {
            "tags": []
          },
          "execution_count": 25
        }
      ]
    },
    {
      "cell_type": "markdown",
      "metadata": {
        "id": "_cBTJEGajiUJ"
      },
      "source": [
        "## Topographical variables"
      ]
    },
    {
      "cell_type": "code",
      "metadata": {
        "colab": {
          "base_uri": "https://localhost:8080/"
        },
        "id": "qjdKNL7hKbfS",
        "outputId": "37700680-7dd8-409e-8e6a-5418d7e05289"
      },
      "source": [
        "is_topo = covariates.Variable.apply(lambda x: x.startswith('EarthEnvTopoMed_'))\n",
        "\n",
        "df = covariates[is_topo].reset_index(drop=True)\n",
        "print(df.shape)"
      ],
      "execution_count": 26,
      "outputs": [
        {
          "output_type": "stream",
          "text": [
            "(16, 9)\n"
          ],
          "name": "stdout"
        }
      ]
    },
    {
      "cell_type": "code",
      "metadata": {
        "colab": {
          "base_uri": "https://localhost:8080/"
        },
        "id": "iTvx7d9ePoO5",
        "outputId": "7b668c67-774a-4c0c-aae3-1284694efff5"
      },
      "source": [
        "imgs = [ee.Image(geeid) for geeid in df['GEE ID'].values]\n",
        "imgcollection = ee.ImageCollection(imgs)\n",
        "img = collection2image_stackbands(imgcollection)\n",
        "img = img.rename(df['Variable'].tolist())\n",
        "result = img.reduceRegions(soil_samples, ee.Reducer.mean())\n",
        "result.size().getInfo(), result.first().getInfo()"
      ],
      "execution_count": 27,
      "outputs": [
        {
          "output_type": "execute_result",
          "data": {
            "text/plain": [
              "(32393,\n",
              " {'geometry': {'coordinates': [-103.14140190346887, 46.351347693731825],\n",
              "   'type': 'Point'},\n",
              "  'id': '00000000000000006b80',\n",
              "  'properties': {'EarthEnvTopoMed_1stOrderPartialDerivEW': -0.00038976711221039295,\n",
              "   'EarthEnvTopoMed_1stOrderPartialDerivNS': 0.00809656921774149,\n",
              "   'EarthEnvTopoMed_2ndOrderPartialDerivEW': -2.462456905050203e-10,\n",
              "   'EarthEnvTopoMed_2ndOrderPartialDerivNS': -3.263154940214008e-05,\n",
              "   'EarthEnvTopoMed_AspectCosine': 0.8275126218795776,\n",
              "   'EarthEnvTopoMed_AspectSine': -0.01998455449938774,\n",
              "   'EarthEnvTopoMed_Eastness': -0.01396926585584879,\n",
              "   'EarthEnvTopoMed_Elevation': 856.5,\n",
              "   'EarthEnvTopoMed_Northness': 0.4282548129558563,\n",
              "   'EarthEnvTopoMed_ProfileCurvature': -3.370612830622122e-05,\n",
              "   'EarthEnvTopoMed_Roughness': 9,\n",
              "   'EarthEnvTopoMed_Slope': 0.819472074508667,\n",
              "   'EarthEnvTopoMed_TangentialCurvature': 1.9312163203721866e-05,\n",
              "   'EarthEnvTopoMed_TerrainRuggednessIndex': 3.125,\n",
              "   'EarthEnvTopoMed_TopoPositionIndex': -0.625,\n",
              "   'EarthEnvTopoMed_VectorRuggednessMeasure': 7.082811498548836e-05,\n",
              "   'bot_cm': 30,\n",
              "   'datetime': 1964,\n",
              "   'mineral_fraction': 2,\n",
              "   'organic_fraction': 0,\n",
              "   'orgc_stock_mineral': 7.006440000000001,\n",
              "   'orgc_stock_organic': 0,\n",
              "   'profile_id': '64ND087002_40A1382',\n",
              "   'top_cm': 0},\n",
              "  'type': 'Feature'})"
            ]
          },
          "metadata": {
            "tags": []
          },
          "execution_count": 27
        }
      ]
    },
    {
      "cell_type": "markdown",
      "metadata": {
        "id": "FD5V1HXgjuKO"
      },
      "source": [
        "## Soil properties (Soil Grid)"
      ]
    },
    {
      "cell_type": "code",
      "metadata": {
        "colab": {
          "base_uri": "https://localhost:8080/"
        },
        "id": "J-pCNpbKjyJJ",
        "outputId": "88a8c128-da8e-4da6-c616-d524500ac45e"
      },
      "source": [
        "prefixes = ['SG_Clay', 'SG_Silt']\n",
        "is_sg = covariates.Variable.apply(\n",
        "    lambda x: any(x.startswith(prefix) for prefix in prefixes))\n",
        "df = covariates[is_sg].reset_index(drop=True)\n",
        "df.shape"
      ],
      "execution_count": 28,
      "outputs": [
        {
          "output_type": "execute_result",
          "data": {
            "text/plain": [
              "(14, 9)"
            ]
          },
          "metadata": {
            "tags": []
          },
          "execution_count": 28
        }
      ]
    },
    {
      "cell_type": "code",
      "metadata": {
        "colab": {
          "base_uri": "https://localhost:8080/"
        },
        "id": "ywdDs9hwladj",
        "outputId": "b6abd48a-b8e3-4cd8-a814-60fd70c19faf"
      },
      "source": [
        "imgs = [ee.Image(geeid) for geeid in df['GEE ID'].values]\n",
        "imgcollection = ee.ImageCollection(imgs)\n",
        "img = collection2image_stackbands(imgcollection)\n",
        "img = img.rename(df.Variable.tolist())\n",
        "result = img.reduceRegions(soil_samples, ee.Reducer.mean())\n",
        "result.size().getInfo(), result.first().getInfo()"
      ],
      "execution_count": 29,
      "outputs": [
        {
          "output_type": "execute_result",
          "data": {
            "text/plain": [
              "(32393,\n",
              " {'geometry': {'coordinates': [-103.14140190346887, 46.351347693731825],\n",
              "   'type': 'Point'},\n",
              "  'id': '00000000000000006b80',\n",
              "  'properties': {'SG_Clay_Content_000cm': 33,\n",
              "   'SG_Clay_Content_005cm': 33,\n",
              "   'SG_Clay_Content_015cm': 35,\n",
              "   'SG_Clay_Content_030cm': 36,\n",
              "   'SG_Clay_Content_060cm': 34,\n",
              "   'SG_Clay_Content_100cm': 33,\n",
              "   'SG_Clay_Content_200cm': 32,\n",
              "   'SG_Silt_Content_000cm': 49,\n",
              "   'SG_Silt_Content_005cm': 50,\n",
              "   'SG_Silt_Content_015cm': 49,\n",
              "   'SG_Silt_Content_030cm': 49,\n",
              "   'SG_Silt_Content_060cm': 50,\n",
              "   'SG_Silt_Content_100cm': 50,\n",
              "   'SG_Silt_Content_200cm': 50,\n",
              "   'bot_cm': 30,\n",
              "   'datetime': 1964,\n",
              "   'mineral_fraction': 2,\n",
              "   'organic_fraction': 0,\n",
              "   'orgc_stock_mineral': 7.006440000000001,\n",
              "   'orgc_stock_organic': 0,\n",
              "   'profile_id': '64ND087002_40A1382',\n",
              "   'top_cm': 0},\n",
              "  'type': 'Feature'})"
            ]
          },
          "metadata": {
            "tags": []
          },
          "execution_count": 29
        }
      ]
    },
    {
      "cell_type": "code",
      "metadata": {
        "id": "GP7dH0tWn3VJ"
      },
      "source": [
        "# ISRIC sample with NaN covariate values\n",
        "\n",
        "# point = ee.Geometry.Point(-79.5, 8.95)\n",
        "# point_buffer = point.buffer(distance=2000)\n",
        "\n",
        "# Map = geemap.Map(center=(8.95, -79.5), zoom=6)\n",
        "# for var in df.Variable.tolist():\n",
        "#     Map.addLayer(img.select(var), {'palette': ['#ffffcc', '#e31a1c', '#bd0026', '#800026']}, \n",
        "#                  var, True, 0.3)\n",
        "\n",
        "# Map.addLayer(wise3, {}, \"WISE3\")\n",
        "\n",
        "# Map.addLayer(point, {'color':'black'}, 'NaN point')\n",
        "# Map.addLayer(point_buffer, {'color':'red'}, 'NaN point buffer')\n",
        "# Map"
      ],
      "execution_count": null,
      "outputs": []
    },
    {
      "cell_type": "markdown",
      "metadata": {
        "id": "FR3dFtwKTrWD"
      },
      "source": [
        "# Merging all available covariates in one go"
      ]
    },
    {
      "cell_type": "code",
      "metadata": {
        "id": "gYusOZF5rIX7"
      },
      "source": [
        "# `MODIS_*` assets are large image collections, which will be left out for now, \n",
        "# because their images might need to be reduced first before merging. \n",
        "\n",
        "is_MODIS = covariates['GEE ID'].apply(lambda x: x.startswith('MODIS/'))\n",
        "df = covariates.drop(covariates[is_MODIS].index, axis=0)"
      ],
      "execution_count": 30,
      "outputs": []
    },
    {
      "cell_type": "code",
      "metadata": {
        "id": "x1yipqmXTwAo"
      },
      "source": [
        "\n",
        "imgs, valid_ids = [], []\n",
        "for geeid in df['GEE ID'].values:\n",
        "    try:\n",
        "        imgs.append(ee.Image(geeid))\n",
        "        valid_ids.append(geeid)\n",
        "    except:\n",
        "        continue\n",
        "\n",
        "\n",
        "imgcollection = ee.ImageCollection(imgs)\n",
        "img = collection2image_stackbands(imgcollection)\n",
        "\n",
        "img = img.rename(df.Variable.tolist())\n",
        "result = img.reduceRegions(soil_samples, ee.Reducer.mean())"
      ],
      "execution_count": 31,
      "outputs": []
    },
    {
      "cell_type": "code",
      "metadata": {
        "id": "ayL0Bl3H6CMa"
      },
      "source": [
        "%%time\n",
        "result.size().getInfo(), result.first().getInfo()"
      ],
      "execution_count": null,
      "outputs": []
    },
    {
      "cell_type": "code",
      "metadata": {
        "id": "62IsWyoQTv0I"
      },
      "source": [
        "csv_name = 'iscn_env_dataset'"
      ],
      "execution_count": 33,
      "outputs": []
    },
    {
      "cell_type": "code",
      "metadata": {
        "id": "PyHalKyCTvny"
      },
      "source": [
        "pth = Path('/content/drive/MyDrive') / f'{csv_name}.csv'\n",
        "\n",
        "if pth.exists():\n",
        "    pth.unlink()\n",
        "\n",
        "task = ee.batch.Export.table.toDrive(\n",
        "    collection=result, description=csv_name, fileFormat='CSV')\n",
        "\n",
        "task.start()"
      ],
      "execution_count": 34,
      "outputs": []
    },
    {
      "cell_type": "code",
      "metadata": {
        "colab": {
          "base_uri": "https://localhost:8080/"
        },
        "id": "-aiWIRlvyYqC",
        "outputId": "9cf59be5-8bdc-40b7-f9bd-04d9432df14e"
      },
      "source": [
        "while task.active():\n",
        "    print(f'Polling for task (id: {task.id}).')\n",
        "    time.sleep(5)"
      ],
      "execution_count": 35,
      "outputs": [
        {
          "output_type": "stream",
          "text": [
            "Polling for task (id: K4DASCVGIXHPSUTUF7XA47HJ).\n",
            "Polling for task (id: K4DASCVGIXHPSUTUF7XA47HJ).\n",
            "Polling for task (id: K4DASCVGIXHPSUTUF7XA47HJ).\n",
            "Polling for task (id: K4DASCVGIXHPSUTUF7XA47HJ).\n",
            "Polling for task (id: K4DASCVGIXHPSUTUF7XA47HJ).\n",
            "Polling for task (id: K4DASCVGIXHPSUTUF7XA47HJ).\n",
            "Polling for task (id: K4DASCVGIXHPSUTUF7XA47HJ).\n",
            "Polling for task (id: K4DASCVGIXHPSUTUF7XA47HJ).\n"
          ],
          "name": "stdout"
        }
      ]
    },
    {
      "cell_type": "code",
      "metadata": {
        "id": "IhaRiHmdygLd"
      },
      "source": [
        "df = pd.read_csv(pth)\n",
        "\n",
        "json.loads(df['.geo'].iloc[0])['coordinates']\n",
        "df['longitude'] = df['.geo'].apply(lambda x: json.loads(x)['coordinates'][0])\n",
        "df['latitude'] = df['.geo'].apply(lambda x: json.loads(x)['coordinates'][1])\n",
        "\n",
        "df.drop(['system:index', '.geo'], axis=1, inplace=True)"
      ],
      "execution_count": 36,
      "outputs": []
    },
    {
      "cell_type": "code",
      "metadata": {
        "colab": {
          "base_uri": "https://localhost:8080/",
          "height": 255
        },
        "id": "Q1Vnzh_3y1Xq",
        "outputId": "44c6f992-5e62-4739-abda-47c62f197c7a"
      },
      "source": [
        "df.head()"
      ],
      "execution_count": 37,
      "outputs": [
        {
          "output_type": "execute_result",
          "data": {
            "text/html": [
              "<div>\n",
              "<style scoped>\n",
              "    .dataframe tbody tr th:only-of-type {\n",
              "        vertical-align: middle;\n",
              "    }\n",
              "\n",
              "    .dataframe tbody tr th {\n",
              "        vertical-align: top;\n",
              "    }\n",
              "\n",
              "    .dataframe thead th {\n",
              "        text-align: right;\n",
              "    }\n",
              "</style>\n",
              "<table border=\"1\" class=\"dataframe\">\n",
              "  <thead>\n",
              "    <tr style=\"text-align: right;\">\n",
              "      <th></th>\n",
              "      <th>EarthEnvCloudCover_MODCF_interannualSD</th>\n",
              "      <th>EarthEnvCloudCover_MODCF_intraannualSD</th>\n",
              "      <th>EarthEnvCloudCover_MODCF_meanannual</th>\n",
              "      <th>EarthEnvCloudCover_MODCF_seasonality_concentration</th>\n",
              "      <th>EarthEnvCloudCover_MODCF_seasonality_theta</th>\n",
              "      <th>EarthEnvTopoMed_1stOrderPartialDerivEW</th>\n",
              "      <th>EarthEnvTopoMed_1stOrderPartialDerivNS</th>\n",
              "      <th>EarthEnvTopoMed_2ndOrderPartialDerivEW</th>\n",
              "      <th>EarthEnvTopoMed_2ndOrderPartialDerivNS</th>\n",
              "      <th>EarthEnvTopoMed_AspectCosine</th>\n",
              "      <th>EarthEnvTopoMed_AspectSine</th>\n",
              "      <th>EarthEnvTopoMed_Eastness</th>\n",
              "      <th>EarthEnvTopoMed_Elevation</th>\n",
              "      <th>EarthEnvTopoMed_Northness</th>\n",
              "      <th>EarthEnvTopoMed_ProfileCurvature</th>\n",
              "      <th>EarthEnvTopoMed_Roughness</th>\n",
              "      <th>EarthEnvTopoMed_Slope</th>\n",
              "      <th>EarthEnvTopoMed_TangentialCurvature</th>\n",
              "      <th>EarthEnvTopoMed_TerrainRuggednessIndex</th>\n",
              "      <th>EarthEnvTopoMed_TopoPositionIndex</th>\n",
              "      <th>EarthEnvTopoMed_VectorRuggednessMeasure</th>\n",
              "      <th>FanEtAl_Depth_to_Water_Table_AnnualMean</th>\n",
              "      <th>SG_Absolute_depth_to_bedrock</th>\n",
              "      <th>SG_Bulk_density_000cm</th>\n",
              "      <th>SG_Bulk_density_005cm</th>\n",
              "      <th>SG_Bulk_density_015cm</th>\n",
              "      <th>SG_Bulk_density_030cm</th>\n",
              "      <th>SG_Bulk_density_060cm</th>\n",
              "      <th>SG_Bulk_density_100cm</th>\n",
              "      <th>SG_Bulk_density_200cm</th>\n",
              "      <th>SG_CEC_000cm</th>\n",
              "      <th>SG_CEC_005cm</th>\n",
              "      <th>SG_CEC_015cm</th>\n",
              "      <th>SG_CEC_030cm</th>\n",
              "      <th>SG_CEC_060cm</th>\n",
              "      <th>SG_CEC_100cm</th>\n",
              "      <th>SG_CEC_200cm</th>\n",
              "      <th>SG_Clay_Content_000cm</th>\n",
              "      <th>SG_Clay_Content_005cm</th>\n",
              "      <th>SG_Clay_Content_015cm</th>\n",
              "      <th>...</th>\n",
              "      <th>WorldClim2_BIO_Mean_Diurnal_Range</th>\n",
              "      <th>WorldClim2_BIO_Mean_Temperature_of_Coldest_Quarter</th>\n",
              "      <th>WorldClim2_BIO_Mean_Temperature_of_Driest_Quarter</th>\n",
              "      <th>WorldClim2_BIO_Mean_Temperature_of_Warmest_Quarter</th>\n",
              "      <th>WorldClim2_BIO_Mean_Temperature_of_Wettest_Quarter</th>\n",
              "      <th>WorldClim2_BIO_Min_Temperature_of_Coldest_Month</th>\n",
              "      <th>WorldClim2_BIO_Precipitation_Seasonality</th>\n",
              "      <th>WorldClim2_BIO_Precipitation_of_Coldest_Quarter</th>\n",
              "      <th>WorldClim2_BIO_Precipitation_of_Driest_Month</th>\n",
              "      <th>WorldClim2_BIO_Precipitation_of_Driest_Quarter</th>\n",
              "      <th>WorldClim2_BIO_Precipitation_of_Warmest_Quarter</th>\n",
              "      <th>WorldClim2_BIO_Precipitation_of_Wettest_Month</th>\n",
              "      <th>WorldClim2_BIO_Precipitation_of_Wettest_Quarter</th>\n",
              "      <th>WorldClim2_BIO_Temperature_Annual_Range</th>\n",
              "      <th>WorldClim2_BIO_Temperature_Seasonality</th>\n",
              "      <th>WorldClim2_H2OVaporPressure_AnnualMean</th>\n",
              "      <th>WorldClim2_SolarRadiation_AnnualMean</th>\n",
              "      <th>WorldClim2_WindSpeed_AnnualMean</th>\n",
              "      <th>bot_cm</th>\n",
              "      <th>datetime</th>\n",
              "      <th>humandev_consensus_full_class_1</th>\n",
              "      <th>humandev_consensus_full_class_10</th>\n",
              "      <th>humandev_consensus_full_class_11</th>\n",
              "      <th>humandev_consensus_full_class_12</th>\n",
              "      <th>humandev_consensus_full_class_2</th>\n",
              "      <th>humandev_consensus_full_class_3</th>\n",
              "      <th>humandev_consensus_full_class_4</th>\n",
              "      <th>humandev_consensus_full_class_5</th>\n",
              "      <th>humandev_consensus_full_class_6</th>\n",
              "      <th>humandev_consensus_full_class_7</th>\n",
              "      <th>humandev_consensus_full_class_8</th>\n",
              "      <th>humandev_consensus_full_class_9</th>\n",
              "      <th>mineral_fraction</th>\n",
              "      <th>organic_fraction</th>\n",
              "      <th>orgc_stock_mineral</th>\n",
              "      <th>orgc_stock_organic</th>\n",
              "      <th>profile_id</th>\n",
              "      <th>top_cm</th>\n",
              "      <th>longitude</th>\n",
              "      <th>latitude</th>\n",
              "    </tr>\n",
              "  </thead>\n",
              "  <tbody>\n",
              "    <tr>\n",
              "      <th>0</th>\n",
              "      <td>1100.0</td>\n",
              "      <td>1058.0</td>\n",
              "      <td>5128.0</td>\n",
              "      <td>118.0</td>\n",
              "      <td>636.0</td>\n",
              "      <td>-0.000390</td>\n",
              "      <td>0.008097</td>\n",
              "      <td>-2.462457e-10</td>\n",
              "      <td>-0.000033</td>\n",
              "      <td>0.827513</td>\n",
              "      <td>-0.019985</td>\n",
              "      <td>-0.013969</td>\n",
              "      <td>856.5</td>\n",
              "      <td>0.428255</td>\n",
              "      <td>-0.000034</td>\n",
              "      <td>9.0</td>\n",
              "      <td>0.819472</td>\n",
              "      <td>0.000019</td>\n",
              "      <td>3.1250</td>\n",
              "      <td>-0.6250</td>\n",
              "      <td>0.000071</td>\n",
              "      <td>32578.0</td>\n",
              "      <td>937.0</td>\n",
              "      <td>1493.0</td>\n",
              "      <td>1342.0</td>\n",
              "      <td>1515.0</td>\n",
              "      <td>1576.0</td>\n",
              "      <td>1560.0</td>\n",
              "      <td>1579.0</td>\n",
              "      <td>1618.0</td>\n",
              "      <td>32.0</td>\n",
              "      <td>31.0</td>\n",
              "      <td>27.0</td>\n",
              "      <td>28.0</td>\n",
              "      <td>27.0</td>\n",
              "      <td>27.0</td>\n",
              "      <td>29.0</td>\n",
              "      <td>32.0</td>\n",
              "      <td>31.0</td>\n",
              "      <td>34.0</td>\n",
              "      <td>...</td>\n",
              "      <td>14.250000</td>\n",
              "      <td>-7.666667</td>\n",
              "      <td>-7.666667</td>\n",
              "      <td>19.466667</td>\n",
              "      <td>16.850000</td>\n",
              "      <td>-15.6</td>\n",
              "      <td>71.871094</td>\n",
              "      <td>28.0</td>\n",
              "      <td>8.0</td>\n",
              "      <td>28.0</td>\n",
              "      <td>176.0</td>\n",
              "      <td>84.0</td>\n",
              "      <td>203.0</td>\n",
              "      <td>44.599998</td>\n",
              "      <td>1104.151245</td>\n",
              "      <td>0.674167</td>\n",
              "      <td>13886.000000</td>\n",
              "      <td>4.866667</td>\n",
              "      <td>30.0</td>\n",
              "      <td>1964</td>\n",
              "      <td>0.0</td>\n",
              "      <td>0.0</td>\n",
              "      <td>0.0</td>\n",
              "      <td>0.0</td>\n",
              "      <td>0.0</td>\n",
              "      <td>0.0</td>\n",
              "      <td>11.0</td>\n",
              "      <td>0.0</td>\n",
              "      <td>89.0</td>\n",
              "      <td>0.0</td>\n",
              "      <td>0.0</td>\n",
              "      <td>0.0</td>\n",
              "      <td>2.0</td>\n",
              "      <td>0.0</td>\n",
              "      <td>7.00644</td>\n",
              "      <td>0.0</td>\n",
              "      <td>64ND087002_40A1382</td>\n",
              "      <td>0.0</td>\n",
              "      <td>-103.141402</td>\n",
              "      <td>46.351348</td>\n",
              "    </tr>\n",
              "    <tr>\n",
              "      <th>1</th>\n",
              "      <td>993.0</td>\n",
              "      <td>707.0</td>\n",
              "      <td>5999.0</td>\n",
              "      <td>65.0</td>\n",
              "      <td>642.0</td>\n",
              "      <td>-0.010228</td>\n",
              "      <td>-0.004593</td>\n",
              "      <td>5.306476e-06</td>\n",
              "      <td>0.000003</td>\n",
              "      <td>-0.572163</td>\n",
              "      <td>-0.760399</td>\n",
              "      <td>-0.430576</td>\n",
              "      <td>193.5</td>\n",
              "      <td>-0.254098</td>\n",
              "      <td>0.000001</td>\n",
              "      <td>7.5</td>\n",
              "      <td>0.555800</td>\n",
              "      <td>0.000008</td>\n",
              "      <td>2.3125</td>\n",
              "      <td>0.1875</td>\n",
              "      <td>0.000022</td>\n",
              "      <td>31930.0</td>\n",
              "      <td>2775.0</td>\n",
              "      <td>1344.0</td>\n",
              "      <td>1355.0</td>\n",
              "      <td>1444.0</td>\n",
              "      <td>1484.0</td>\n",
              "      <td>1569.0</td>\n",
              "      <td>1595.0</td>\n",
              "      <td>1602.0</td>\n",
              "      <td>22.0</td>\n",
              "      <td>20.0</td>\n",
              "      <td>20.0</td>\n",
              "      <td>20.0</td>\n",
              "      <td>22.0</td>\n",
              "      <td>21.0</td>\n",
              "      <td>20.0</td>\n",
              "      <td>22.0</td>\n",
              "      <td>21.0</td>\n",
              "      <td>23.0</td>\n",
              "      <td>...</td>\n",
              "      <td>11.541667</td>\n",
              "      <td>-2.700000</td>\n",
              "      <td>-2.700000</td>\n",
              "      <td>22.933332</td>\n",
              "      <td>20.950001</td>\n",
              "      <td>-9.4</td>\n",
              "      <td>27.701008</td>\n",
              "      <td>150.0</td>\n",
              "      <td>40.0</td>\n",
              "      <td>150.0</td>\n",
              "      <td>296.0</td>\n",
              "      <td>110.0</td>\n",
              "      <td>313.0</td>\n",
              "      <td>39.500000</td>\n",
              "      <td>1034.006104</td>\n",
              "      <td>1.089167</td>\n",
              "      <td>13895.416992</td>\n",
              "      <td>4.041667</td>\n",
              "      <td>30.0</td>\n",
              "      <td>1966</td>\n",
              "      <td>0.0</td>\n",
              "      <td>0.0</td>\n",
              "      <td>0.0</td>\n",
              "      <td>0.0</td>\n",
              "      <td>0.0</td>\n",
              "      <td>3.0</td>\n",
              "      <td>0.0</td>\n",
              "      <td>0.0</td>\n",
              "      <td>15.0</td>\n",
              "      <td>82.0</td>\n",
              "      <td>0.0</td>\n",
              "      <td>0.0</td>\n",
              "      <td>2.0</td>\n",
              "      <td>0.0</td>\n",
              "      <td>14.23080</td>\n",
              "      <td>0.0</td>\n",
              "      <td>S1966IL107001_40A2008</td>\n",
              "      <td>0.0</td>\n",
              "      <td>-89.326942</td>\n",
              "      <td>40.263609</td>\n",
              "    </tr>\n",
              "    <tr>\n",
              "      <th>2</th>\n",
              "      <td>1058.0</td>\n",
              "      <td>629.0</td>\n",
              "      <td>5529.0</td>\n",
              "      <td>69.0</td>\n",
              "      <td>737.0</td>\n",
              "      <td>0.012336</td>\n",
              "      <td>0.004595</td>\n",
              "      <td>2.004156e-05</td>\n",
              "      <td>0.000009</td>\n",
              "      <td>0.340314</td>\n",
              "      <td>0.890736</td>\n",
              "      <td>0.526281</td>\n",
              "      <td>204.5</td>\n",
              "      <td>0.235699</td>\n",
              "      <td>0.000014</td>\n",
              "      <td>8.5</td>\n",
              "      <td>0.710805</td>\n",
              "      <td>0.000004</td>\n",
              "      <td>2.5625</td>\n",
              "      <td>0.0000</td>\n",
              "      <td>0.000056</td>\n",
              "      <td>29728.0</td>\n",
              "      <td>2602.0</td>\n",
              "      <td>1325.0</td>\n",
              "      <td>1317.0</td>\n",
              "      <td>1457.0</td>\n",
              "      <td>1521.0</td>\n",
              "      <td>1583.0</td>\n",
              "      <td>1579.0</td>\n",
              "      <td>1581.0</td>\n",
              "      <td>20.0</td>\n",
              "      <td>19.0</td>\n",
              "      <td>18.0</td>\n",
              "      <td>19.0</td>\n",
              "      <td>21.0</td>\n",
              "      <td>21.0</td>\n",
              "      <td>21.0</td>\n",
              "      <td>16.0</td>\n",
              "      <td>17.0</td>\n",
              "      <td>18.0</td>\n",
              "      <td>...</td>\n",
              "      <td>11.916666</td>\n",
              "      <td>0.483333</td>\n",
              "      <td>0.483333</td>\n",
              "      <td>24.083332</td>\n",
              "      <td>12.716667</td>\n",
              "      <td>-6.3</td>\n",
              "      <td>18.270243</td>\n",
              "      <td>196.0</td>\n",
              "      <td>52.0</td>\n",
              "      <td>196.0</td>\n",
              "      <td>266.0</td>\n",
              "      <td>105.0</td>\n",
              "      <td>295.0</td>\n",
              "      <td>37.599998</td>\n",
              "      <td>951.146423</td>\n",
              "      <td>1.181667</td>\n",
              "      <td>14596.333008</td>\n",
              "      <td>3.308333</td>\n",
              "      <td>30.0</td>\n",
              "      <td>1981</td>\n",
              "      <td>0.0</td>\n",
              "      <td>0.0</td>\n",
              "      <td>0.0</td>\n",
              "      <td>0.0</td>\n",
              "      <td>0.0</td>\n",
              "      <td>0.0</td>\n",
              "      <td>0.0</td>\n",
              "      <td>0.0</td>\n",
              "      <td>19.0</td>\n",
              "      <td>81.0</td>\n",
              "      <td>0.0</td>\n",
              "      <td>0.0</td>\n",
              "      <td>2.0</td>\n",
              "      <td>0.0</td>\n",
              "      <td>5.43600</td>\n",
              "      <td>0.0</td>\n",
              "      <td>1981IL133003_83P0357</td>\n",
              "      <td>0.0</td>\n",
              "      <td>-90.256392</td>\n",
              "      <td>38.240551</td>\n",
              "    </tr>\n",
              "    <tr>\n",
              "      <th>3</th>\n",
              "      <td>988.0</td>\n",
              "      <td>761.0</td>\n",
              "      <td>5884.0</td>\n",
              "      <td>70.0</td>\n",
              "      <td>726.0</td>\n",
              "      <td>0.003892</td>\n",
              "      <td>0.001081</td>\n",
              "      <td>1.068346e-05</td>\n",
              "      <td>0.000034</td>\n",
              "      <td>0.447214</td>\n",
              "      <td>0.857493</td>\n",
              "      <td>0.167379</td>\n",
              "      <td>213.0</td>\n",
              "      <td>0.061050</td>\n",
              "      <td>0.000012</td>\n",
              "      <td>4.5</td>\n",
              "      <td>0.315496</td>\n",
              "      <td>0.000022</td>\n",
              "      <td>1.6875</td>\n",
              "      <td>0.5625</td>\n",
              "      <td>0.000021</td>\n",
              "      <td>31140.0</td>\n",
              "      <td>2665.0</td>\n",
              "      <td>1379.0</td>\n",
              "      <td>1353.0</td>\n",
              "      <td>1474.0</td>\n",
              "      <td>1495.0</td>\n",
              "      <td>1590.0</td>\n",
              "      <td>1618.0</td>\n",
              "      <td>1621.0</td>\n",
              "      <td>27.0</td>\n",
              "      <td>25.0</td>\n",
              "      <td>24.0</td>\n",
              "      <td>25.0</td>\n",
              "      <td>26.0</td>\n",
              "      <td>25.0</td>\n",
              "      <td>23.0</td>\n",
              "      <td>22.0</td>\n",
              "      <td>22.0</td>\n",
              "      <td>23.0</td>\n",
              "      <td>...</td>\n",
              "      <td>11.433333</td>\n",
              "      <td>-3.000000</td>\n",
              "      <td>-3.000000</td>\n",
              "      <td>23.116667</td>\n",
              "      <td>21.033333</td>\n",
              "      <td>-9.9</td>\n",
              "      <td>32.483723</td>\n",
              "      <td>126.0</td>\n",
              "      <td>34.0</td>\n",
              "      <td>126.0</td>\n",
              "      <td>296.0</td>\n",
              "      <td>106.0</td>\n",
              "      <td>310.0</td>\n",
              "      <td>40.400002</td>\n",
              "      <td>1050.875854</td>\n",
              "      <td>1.065000</td>\n",
              "      <td>13959.000000</td>\n",
              "      <td>3.908333</td>\n",
              "      <td>30.0</td>\n",
              "      <td>1987</td>\n",
              "      <td>0.0</td>\n",
              "      <td>0.0</td>\n",
              "      <td>0.0</td>\n",
              "      <td>0.0</td>\n",
              "      <td>0.0</td>\n",
              "      <td>0.0</td>\n",
              "      <td>0.0</td>\n",
              "      <td>0.0</td>\n",
              "      <td>21.0</td>\n",
              "      <td>79.0</td>\n",
              "      <td>0.0</td>\n",
              "      <td>0.0</td>\n",
              "      <td>2.0</td>\n",
              "      <td>0.0</td>\n",
              "      <td>17.41257</td>\n",
              "      <td>0.0</td>\n",
              "      <td>1987IL109068_88P0084</td>\n",
              "      <td>0.0</td>\n",
              "      <td>-90.689451</td>\n",
              "      <td>40.491661</td>\n",
              "    </tr>\n",
              "    <tr>\n",
              "      <th>4</th>\n",
              "      <td>945.0</td>\n",
              "      <td>760.0</td>\n",
              "      <td>5816.0</td>\n",
              "      <td>70.0</td>\n",
              "      <td>779.0</td>\n",
              "      <td>0.003187</td>\n",
              "      <td>-0.000540</td>\n",
              "      <td>-2.943254e-05</td>\n",
              "      <td>0.000006</td>\n",
              "      <td>-0.059912</td>\n",
              "      <td>0.257359</td>\n",
              "      <td>0.132564</td>\n",
              "      <td>184.5</td>\n",
              "      <td>-0.028999</td>\n",
              "      <td>0.000030</td>\n",
              "      <td>15.0</td>\n",
              "      <td>1.468664</td>\n",
              "      <td>-0.000021</td>\n",
              "      <td>5.9375</td>\n",
              "      <td>-1.2500</td>\n",
              "      <td>0.000239</td>\n",
              "      <td>32767.0</td>\n",
              "      <td>3270.0</td>\n",
              "      <td>1279.0</td>\n",
              "      <td>1337.0</td>\n",
              "      <td>1435.0</td>\n",
              "      <td>1508.0</td>\n",
              "      <td>1588.0</td>\n",
              "      <td>1600.0</td>\n",
              "      <td>1609.0</td>\n",
              "      <td>25.0</td>\n",
              "      <td>22.0</td>\n",
              "      <td>21.0</td>\n",
              "      <td>22.0</td>\n",
              "      <td>22.0</td>\n",
              "      <td>22.0</td>\n",
              "      <td>21.0</td>\n",
              "      <td>20.0</td>\n",
              "      <td>20.0</td>\n",
              "      <td>21.0</td>\n",
              "      <td>...</td>\n",
              "      <td>11.575000</td>\n",
              "      <td>-3.083333</td>\n",
              "      <td>-3.083333</td>\n",
              "      <td>23.166666</td>\n",
              "      <td>21.150000</td>\n",
              "      <td>-10.1</td>\n",
              "      <td>33.702854</td>\n",
              "      <td>126.0</td>\n",
              "      <td>36.0</td>\n",
              "      <td>126.0</td>\n",
              "      <td>304.0</td>\n",
              "      <td>110.0</td>\n",
              "      <td>322.0</td>\n",
              "      <td>40.599998</td>\n",
              "      <td>1056.853149</td>\n",
              "      <td>1.071667</td>\n",
              "      <td>13927.333008</td>\n",
              "      <td>3.891667</td>\n",
              "      <td>30.0</td>\n",
              "      <td>1988</td>\n",
              "      <td>0.0</td>\n",
              "      <td>0.0</td>\n",
              "      <td>0.0</td>\n",
              "      <td>0.0</td>\n",
              "      <td>0.0</td>\n",
              "      <td>20.0</td>\n",
              "      <td>0.0</td>\n",
              "      <td>0.0</td>\n",
              "      <td>0.0</td>\n",
              "      <td>80.0</td>\n",
              "      <td>0.0</td>\n",
              "      <td>0.0</td>\n",
              "      <td>2.0</td>\n",
              "      <td>0.0</td>\n",
              "      <td>12.13996</td>\n",
              "      <td>0.0</td>\n",
              "      <td>1988IL067025_88P0797</td>\n",
              "      <td>0.0</td>\n",
              "      <td>-91.031389</td>\n",
              "      <td>40.547217</td>\n",
              "    </tr>\n",
              "  </tbody>\n",
              "</table>\n",
              "<p>5 rows × 167 columns</p>\n",
              "</div>"
            ],
            "text/plain": [
              "   EarthEnvCloudCover_MODCF_interannualSD  ...   latitude\n",
              "0                                  1100.0  ...  46.351348\n",
              "1                                   993.0  ...  40.263609\n",
              "2                                  1058.0  ...  38.240551\n",
              "3                                   988.0  ...  40.491661\n",
              "4                                   945.0  ...  40.547217\n",
              "\n",
              "[5 rows x 167 columns]"
            ]
          },
          "metadata": {
            "tags": []
          },
          "execution_count": 37
        }
      ]
    },
    {
      "cell_type": "markdown",
      "metadata": {
        "id": "VbXJx8r27RId"
      },
      "source": [
        "Write to Drive again and download."
      ]
    },
    {
      "cell_type": "code",
      "metadata": {
        "id": "f3jDaNO8y9f0"
      },
      "source": [
        "# df.to_csv('/content/drive/MyDrive/soilshot/iscn_env_dataset.csv', index=False)"
      ],
      "execution_count": null,
      "outputs": []
    },
    {
      "cell_type": "code",
      "metadata": {
        "id": "u9eHto8_zLvQ"
      },
      "source": [
        "# pd.read_csv('/content/drive/MyDrive/soilshot/iscn_env_dataset.csv').head()"
      ],
      "execution_count": null,
      "outputs": []
    },
    {
      "cell_type": "code",
      "metadata": {
        "id": "3a2RwYKlz7VF"
      },
      "source": [
        "# files.download('/content/drive/MyDrive/soilshot/iscn_env_dataset.csv')"
      ],
      "execution_count": null,
      "outputs": []
    },
    {
      "cell_type": "markdown",
      "metadata": {
        "id": "38br1nRC1KbE"
      },
      "source": [
        "# Accessing the merged dataset"
      ]
    },
    {
      "cell_type": "markdown",
      "metadata": {
        "id": "IGVkWg7W1jI7"
      },
      "source": [
        "The merged ISCN+covariates dataset is available at https://www.dropbox.com/s/paqtujasjz8lwr8/iscn_env_dataset.csv."
      ]
    },
    {
      "cell_type": "code",
      "metadata": {
        "colab": {
          "base_uri": "https://localhost:8080/"
        },
        "id": "Bm5tvR0W1Mw6",
        "outputId": "638d32fd-30fb-4059-b8fd-5de46db4979f"
      },
      "source": [
        "! wget https://www.dropbox.com/s/paqtujasjz8lwr8/iscn_env_dataset.csv"
      ],
      "execution_count": 38,
      "outputs": [
        {
          "output_type": "stream",
          "text": [
            "--2021-06-03 03:31:54--  https://www.dropbox.com/s/paqtujasjz8lwr8/iscn_env_dataset.csv\n",
            "Resolving www.dropbox.com (www.dropbox.com)... 162.125.5.18, 2620:100:601d:18::a27d:512\n",
            "Connecting to www.dropbox.com (www.dropbox.com)|162.125.5.18|:443... connected.\n",
            "HTTP request sent, awaiting response... 301 Moved Permanently\n",
            "Location: /s/raw/paqtujasjz8lwr8/iscn_env_dataset.csv [following]\n",
            "--2021-06-03 03:31:55--  https://www.dropbox.com/s/raw/paqtujasjz8lwr8/iscn_env_dataset.csv\n",
            "Reusing existing connection to www.dropbox.com:443.\n",
            "HTTP request sent, awaiting response... 302 Found\n",
            "Location: https://uc11c3ec383a564bc48cdc182f1d.dl.dropboxusercontent.com/cd/0/inline/BPvuF9PCLXjaX75n3TIhhCfBDgHHxjb-doKCGhJJ0uCl6ZBl9JsiG1GcCJn-RwqCs2AV1k-XxG6T-hug7E-E1AK4fE111IoRObxCsYYWPKJST8CMdS9-8Qkoc1igeu2yMEctyy5xzJdHSt3BzerFKp1q/file# [following]\n",
            "--2021-06-03 03:31:55--  https://uc11c3ec383a564bc48cdc182f1d.dl.dropboxusercontent.com/cd/0/inline/BPvuF9PCLXjaX75n3TIhhCfBDgHHxjb-doKCGhJJ0uCl6ZBl9JsiG1GcCJn-RwqCs2AV1k-XxG6T-hug7E-E1AK4fE111IoRObxCsYYWPKJST8CMdS9-8Qkoc1igeu2yMEctyy5xzJdHSt3BzerFKp1q/file\n",
            "Resolving uc11c3ec383a564bc48cdc182f1d.dl.dropboxusercontent.com (uc11c3ec383a564bc48cdc182f1d.dl.dropboxusercontent.com)... 162.125.5.15, 2620:100:601d:15::a27d:50f\n",
            "Connecting to uc11c3ec383a564bc48cdc182f1d.dl.dropboxusercontent.com (uc11c3ec383a564bc48cdc182f1d.dl.dropboxusercontent.com)|162.125.5.15|:443... connected.\n",
            "HTTP request sent, awaiting response... 200 OK\n",
            "Length: 41591755 (40M) [text/plain]\n",
            "Saving to: ‘iscn_env_dataset.csv’\n",
            "\n",
            "iscn_env_dataset.cs 100%[===================>]  39.66M  50.6MB/s    in 0.8s    \n",
            "\n",
            "2021-06-03 03:31:56 (50.6 MB/s) - ‘iscn_env_dataset.csv’ saved [41591755/41591755]\n",
            "\n"
          ],
          "name": "stdout"
        }
      ]
    },
    {
      "cell_type": "code",
      "metadata": {
        "colab": {
          "base_uri": "https://localhost:8080/",
          "height": 255
        },
        "id": "EUpl5Yk61Zar",
        "outputId": "5f6bbeab-83ff-4537-bbf0-dc45db3d7737"
      },
      "source": [
        "pd.read_csv('iscn_env_dataset.csv').head()"
      ],
      "execution_count": 39,
      "outputs": [
        {
          "output_type": "execute_result",
          "data": {
            "text/html": [
              "<div>\n",
              "<style scoped>\n",
              "    .dataframe tbody tr th:only-of-type {\n",
              "        vertical-align: middle;\n",
              "    }\n",
              "\n",
              "    .dataframe tbody tr th {\n",
              "        vertical-align: top;\n",
              "    }\n",
              "\n",
              "    .dataframe thead th {\n",
              "        text-align: right;\n",
              "    }\n",
              "</style>\n",
              "<table border=\"1\" class=\"dataframe\">\n",
              "  <thead>\n",
              "    <tr style=\"text-align: right;\">\n",
              "      <th></th>\n",
              "      <th>EarthEnvCloudCover_MODCF_interannualSD</th>\n",
              "      <th>EarthEnvCloudCover_MODCF_intraannualSD</th>\n",
              "      <th>EarthEnvCloudCover_MODCF_meanannual</th>\n",
              "      <th>EarthEnvCloudCover_MODCF_seasonality_concentration</th>\n",
              "      <th>EarthEnvCloudCover_MODCF_seasonality_theta</th>\n",
              "      <th>EarthEnvTopoMed_1stOrderPartialDerivEW</th>\n",
              "      <th>EarthEnvTopoMed_1stOrderPartialDerivNS</th>\n",
              "      <th>EarthEnvTopoMed_2ndOrderPartialDerivEW</th>\n",
              "      <th>EarthEnvTopoMed_2ndOrderPartialDerivNS</th>\n",
              "      <th>EarthEnvTopoMed_AspectCosine</th>\n",
              "      <th>EarthEnvTopoMed_AspectSine</th>\n",
              "      <th>EarthEnvTopoMed_Eastness</th>\n",
              "      <th>EarthEnvTopoMed_Elevation</th>\n",
              "      <th>EarthEnvTopoMed_Northness</th>\n",
              "      <th>EarthEnvTopoMed_ProfileCurvature</th>\n",
              "      <th>EarthEnvTopoMed_Roughness</th>\n",
              "      <th>EarthEnvTopoMed_Slope</th>\n",
              "      <th>EarthEnvTopoMed_TangentialCurvature</th>\n",
              "      <th>EarthEnvTopoMed_TerrainRuggednessIndex</th>\n",
              "      <th>EarthEnvTopoMed_TopoPositionIndex</th>\n",
              "      <th>EarthEnvTopoMed_VectorRuggednessMeasure</th>\n",
              "      <th>FanEtAl_Depth_to_Water_Table_AnnualMean</th>\n",
              "      <th>SG_Absolute_depth_to_bedrock</th>\n",
              "      <th>SG_Bulk_density_000cm</th>\n",
              "      <th>SG_Bulk_density_005cm</th>\n",
              "      <th>SG_Bulk_density_015cm</th>\n",
              "      <th>SG_Bulk_density_030cm</th>\n",
              "      <th>SG_Bulk_density_060cm</th>\n",
              "      <th>SG_Bulk_density_100cm</th>\n",
              "      <th>SG_Bulk_density_200cm</th>\n",
              "      <th>SG_CEC_000cm</th>\n",
              "      <th>SG_CEC_005cm</th>\n",
              "      <th>SG_CEC_015cm</th>\n",
              "      <th>SG_CEC_030cm</th>\n",
              "      <th>SG_CEC_060cm</th>\n",
              "      <th>SG_CEC_100cm</th>\n",
              "      <th>SG_CEC_200cm</th>\n",
              "      <th>SG_Clay_Content_000cm</th>\n",
              "      <th>SG_Clay_Content_005cm</th>\n",
              "      <th>SG_Clay_Content_015cm</th>\n",
              "      <th>...</th>\n",
              "      <th>WorldClim2_BIO_Mean_Diurnal_Range</th>\n",
              "      <th>WorldClim2_BIO_Mean_Temperature_of_Coldest_Quarter</th>\n",
              "      <th>WorldClim2_BIO_Mean_Temperature_of_Driest_Quarter</th>\n",
              "      <th>WorldClim2_BIO_Mean_Temperature_of_Warmest_Quarter</th>\n",
              "      <th>WorldClim2_BIO_Mean_Temperature_of_Wettest_Quarter</th>\n",
              "      <th>WorldClim2_BIO_Min_Temperature_of_Coldest_Month</th>\n",
              "      <th>WorldClim2_BIO_Precipitation_Seasonality</th>\n",
              "      <th>WorldClim2_BIO_Precipitation_of_Coldest_Quarter</th>\n",
              "      <th>WorldClim2_BIO_Precipitation_of_Driest_Month</th>\n",
              "      <th>WorldClim2_BIO_Precipitation_of_Driest_Quarter</th>\n",
              "      <th>WorldClim2_BIO_Precipitation_of_Warmest_Quarter</th>\n",
              "      <th>WorldClim2_BIO_Precipitation_of_Wettest_Month</th>\n",
              "      <th>WorldClim2_BIO_Precipitation_of_Wettest_Quarter</th>\n",
              "      <th>WorldClim2_BIO_Temperature_Annual_Range</th>\n",
              "      <th>WorldClim2_BIO_Temperature_Seasonality</th>\n",
              "      <th>WorldClim2_H2OVaporPressure_AnnualMean</th>\n",
              "      <th>WorldClim2_SolarRadiation_AnnualMean</th>\n",
              "      <th>WorldClim2_WindSpeed_AnnualMean</th>\n",
              "      <th>bot_cm</th>\n",
              "      <th>datetime</th>\n",
              "      <th>humandev_consensus_full_class_1</th>\n",
              "      <th>humandev_consensus_full_class_10</th>\n",
              "      <th>humandev_consensus_full_class_11</th>\n",
              "      <th>humandev_consensus_full_class_12</th>\n",
              "      <th>humandev_consensus_full_class_2</th>\n",
              "      <th>humandev_consensus_full_class_3</th>\n",
              "      <th>humandev_consensus_full_class_4</th>\n",
              "      <th>humandev_consensus_full_class_5</th>\n",
              "      <th>humandev_consensus_full_class_6</th>\n",
              "      <th>humandev_consensus_full_class_7</th>\n",
              "      <th>humandev_consensus_full_class_8</th>\n",
              "      <th>humandev_consensus_full_class_9</th>\n",
              "      <th>mineral_fraction</th>\n",
              "      <th>organic_fraction</th>\n",
              "      <th>orgc_stock_mineral</th>\n",
              "      <th>orgc_stock_organic</th>\n",
              "      <th>profile_id</th>\n",
              "      <th>top_cm</th>\n",
              "      <th>longitude</th>\n",
              "      <th>latitude</th>\n",
              "    </tr>\n",
              "  </thead>\n",
              "  <tbody>\n",
              "    <tr>\n",
              "      <th>0</th>\n",
              "      <td>1100.0</td>\n",
              "      <td>1058.0</td>\n",
              "      <td>5128.0</td>\n",
              "      <td>118.0</td>\n",
              "      <td>636.0</td>\n",
              "      <td>-0.000390</td>\n",
              "      <td>0.008097</td>\n",
              "      <td>-2.462457e-10</td>\n",
              "      <td>-0.000033</td>\n",
              "      <td>0.827513</td>\n",
              "      <td>-0.019985</td>\n",
              "      <td>-0.013969</td>\n",
              "      <td>856.5</td>\n",
              "      <td>0.428255</td>\n",
              "      <td>-0.000034</td>\n",
              "      <td>9.0</td>\n",
              "      <td>0.819472</td>\n",
              "      <td>0.000019</td>\n",
              "      <td>3.1250</td>\n",
              "      <td>-0.6250</td>\n",
              "      <td>0.000071</td>\n",
              "      <td>32578.0</td>\n",
              "      <td>937.0</td>\n",
              "      <td>1493.0</td>\n",
              "      <td>1342.0</td>\n",
              "      <td>1515.0</td>\n",
              "      <td>1576.0</td>\n",
              "      <td>1560.0</td>\n",
              "      <td>1579.0</td>\n",
              "      <td>1618.0</td>\n",
              "      <td>32.0</td>\n",
              "      <td>31.0</td>\n",
              "      <td>27.0</td>\n",
              "      <td>28.0</td>\n",
              "      <td>27.0</td>\n",
              "      <td>27.0</td>\n",
              "      <td>29.0</td>\n",
              "      <td>32.0</td>\n",
              "      <td>31.0</td>\n",
              "      <td>34.0</td>\n",
              "      <td>...</td>\n",
              "      <td>14.250000</td>\n",
              "      <td>-7.666667</td>\n",
              "      <td>-7.666667</td>\n",
              "      <td>19.466667</td>\n",
              "      <td>16.850000</td>\n",
              "      <td>-15.6</td>\n",
              "      <td>71.871094</td>\n",
              "      <td>28.0</td>\n",
              "      <td>8.0</td>\n",
              "      <td>28.0</td>\n",
              "      <td>176.0</td>\n",
              "      <td>84.0</td>\n",
              "      <td>203.0</td>\n",
              "      <td>44.599998</td>\n",
              "      <td>1104.151245</td>\n",
              "      <td>0.674167</td>\n",
              "      <td>13886.000000</td>\n",
              "      <td>4.866667</td>\n",
              "      <td>30.0</td>\n",
              "      <td>1964</td>\n",
              "      <td>0.0</td>\n",
              "      <td>0.0</td>\n",
              "      <td>0.0</td>\n",
              "      <td>0.0</td>\n",
              "      <td>0.0</td>\n",
              "      <td>0.0</td>\n",
              "      <td>11.0</td>\n",
              "      <td>0.0</td>\n",
              "      <td>89.0</td>\n",
              "      <td>0.0</td>\n",
              "      <td>0.0</td>\n",
              "      <td>0.0</td>\n",
              "      <td>2.0</td>\n",
              "      <td>0.0</td>\n",
              "      <td>7.00644</td>\n",
              "      <td>0.0</td>\n",
              "      <td>64ND087002_40A1382</td>\n",
              "      <td>0.0</td>\n",
              "      <td>-103.141402</td>\n",
              "      <td>46.351348</td>\n",
              "    </tr>\n",
              "    <tr>\n",
              "      <th>1</th>\n",
              "      <td>993.0</td>\n",
              "      <td>707.0</td>\n",
              "      <td>5999.0</td>\n",
              "      <td>65.0</td>\n",
              "      <td>642.0</td>\n",
              "      <td>-0.010228</td>\n",
              "      <td>-0.004593</td>\n",
              "      <td>5.306476e-06</td>\n",
              "      <td>0.000003</td>\n",
              "      <td>-0.572163</td>\n",
              "      <td>-0.760399</td>\n",
              "      <td>-0.430576</td>\n",
              "      <td>193.5</td>\n",
              "      <td>-0.254098</td>\n",
              "      <td>0.000001</td>\n",
              "      <td>7.5</td>\n",
              "      <td>0.555800</td>\n",
              "      <td>0.000008</td>\n",
              "      <td>2.3125</td>\n",
              "      <td>0.1875</td>\n",
              "      <td>0.000022</td>\n",
              "      <td>31930.0</td>\n",
              "      <td>2775.0</td>\n",
              "      <td>1344.0</td>\n",
              "      <td>1355.0</td>\n",
              "      <td>1444.0</td>\n",
              "      <td>1484.0</td>\n",
              "      <td>1569.0</td>\n",
              "      <td>1595.0</td>\n",
              "      <td>1602.0</td>\n",
              "      <td>22.0</td>\n",
              "      <td>20.0</td>\n",
              "      <td>20.0</td>\n",
              "      <td>20.0</td>\n",
              "      <td>22.0</td>\n",
              "      <td>21.0</td>\n",
              "      <td>20.0</td>\n",
              "      <td>22.0</td>\n",
              "      <td>21.0</td>\n",
              "      <td>23.0</td>\n",
              "      <td>...</td>\n",
              "      <td>11.541667</td>\n",
              "      <td>-2.700000</td>\n",
              "      <td>-2.700000</td>\n",
              "      <td>22.933332</td>\n",
              "      <td>20.950001</td>\n",
              "      <td>-9.4</td>\n",
              "      <td>27.701008</td>\n",
              "      <td>150.0</td>\n",
              "      <td>40.0</td>\n",
              "      <td>150.0</td>\n",
              "      <td>296.0</td>\n",
              "      <td>110.0</td>\n",
              "      <td>313.0</td>\n",
              "      <td>39.500000</td>\n",
              "      <td>1034.006104</td>\n",
              "      <td>1.089167</td>\n",
              "      <td>13895.416992</td>\n",
              "      <td>4.041667</td>\n",
              "      <td>30.0</td>\n",
              "      <td>1966</td>\n",
              "      <td>0.0</td>\n",
              "      <td>0.0</td>\n",
              "      <td>0.0</td>\n",
              "      <td>0.0</td>\n",
              "      <td>0.0</td>\n",
              "      <td>3.0</td>\n",
              "      <td>0.0</td>\n",
              "      <td>0.0</td>\n",
              "      <td>15.0</td>\n",
              "      <td>82.0</td>\n",
              "      <td>0.0</td>\n",
              "      <td>0.0</td>\n",
              "      <td>2.0</td>\n",
              "      <td>0.0</td>\n",
              "      <td>14.23080</td>\n",
              "      <td>0.0</td>\n",
              "      <td>S1966IL107001_40A2008</td>\n",
              "      <td>0.0</td>\n",
              "      <td>-89.326942</td>\n",
              "      <td>40.263609</td>\n",
              "    </tr>\n",
              "    <tr>\n",
              "      <th>2</th>\n",
              "      <td>1058.0</td>\n",
              "      <td>629.0</td>\n",
              "      <td>5529.0</td>\n",
              "      <td>69.0</td>\n",
              "      <td>737.0</td>\n",
              "      <td>0.012336</td>\n",
              "      <td>0.004595</td>\n",
              "      <td>2.004156e-05</td>\n",
              "      <td>0.000009</td>\n",
              "      <td>0.340314</td>\n",
              "      <td>0.890736</td>\n",
              "      <td>0.526281</td>\n",
              "      <td>204.5</td>\n",
              "      <td>0.235699</td>\n",
              "      <td>0.000014</td>\n",
              "      <td>8.5</td>\n",
              "      <td>0.710805</td>\n",
              "      <td>0.000004</td>\n",
              "      <td>2.5625</td>\n",
              "      <td>0.0000</td>\n",
              "      <td>0.000056</td>\n",
              "      <td>29728.0</td>\n",
              "      <td>2602.0</td>\n",
              "      <td>1325.0</td>\n",
              "      <td>1317.0</td>\n",
              "      <td>1457.0</td>\n",
              "      <td>1521.0</td>\n",
              "      <td>1583.0</td>\n",
              "      <td>1579.0</td>\n",
              "      <td>1581.0</td>\n",
              "      <td>20.0</td>\n",
              "      <td>19.0</td>\n",
              "      <td>18.0</td>\n",
              "      <td>19.0</td>\n",
              "      <td>21.0</td>\n",
              "      <td>21.0</td>\n",
              "      <td>21.0</td>\n",
              "      <td>16.0</td>\n",
              "      <td>17.0</td>\n",
              "      <td>18.0</td>\n",
              "      <td>...</td>\n",
              "      <td>11.916666</td>\n",
              "      <td>0.483333</td>\n",
              "      <td>0.483333</td>\n",
              "      <td>24.083332</td>\n",
              "      <td>12.716667</td>\n",
              "      <td>-6.3</td>\n",
              "      <td>18.270243</td>\n",
              "      <td>196.0</td>\n",
              "      <td>52.0</td>\n",
              "      <td>196.0</td>\n",
              "      <td>266.0</td>\n",
              "      <td>105.0</td>\n",
              "      <td>295.0</td>\n",
              "      <td>37.599998</td>\n",
              "      <td>951.146423</td>\n",
              "      <td>1.181667</td>\n",
              "      <td>14596.333008</td>\n",
              "      <td>3.308333</td>\n",
              "      <td>30.0</td>\n",
              "      <td>1981</td>\n",
              "      <td>0.0</td>\n",
              "      <td>0.0</td>\n",
              "      <td>0.0</td>\n",
              "      <td>0.0</td>\n",
              "      <td>0.0</td>\n",
              "      <td>0.0</td>\n",
              "      <td>0.0</td>\n",
              "      <td>0.0</td>\n",
              "      <td>19.0</td>\n",
              "      <td>81.0</td>\n",
              "      <td>0.0</td>\n",
              "      <td>0.0</td>\n",
              "      <td>2.0</td>\n",
              "      <td>0.0</td>\n",
              "      <td>5.43600</td>\n",
              "      <td>0.0</td>\n",
              "      <td>1981IL133003_83P0357</td>\n",
              "      <td>0.0</td>\n",
              "      <td>-90.256392</td>\n",
              "      <td>38.240551</td>\n",
              "    </tr>\n",
              "    <tr>\n",
              "      <th>3</th>\n",
              "      <td>988.0</td>\n",
              "      <td>761.0</td>\n",
              "      <td>5884.0</td>\n",
              "      <td>70.0</td>\n",
              "      <td>726.0</td>\n",
              "      <td>0.003892</td>\n",
              "      <td>0.001081</td>\n",
              "      <td>1.068346e-05</td>\n",
              "      <td>0.000034</td>\n",
              "      <td>0.447214</td>\n",
              "      <td>0.857493</td>\n",
              "      <td>0.167379</td>\n",
              "      <td>213.0</td>\n",
              "      <td>0.061050</td>\n",
              "      <td>0.000012</td>\n",
              "      <td>4.5</td>\n",
              "      <td>0.315496</td>\n",
              "      <td>0.000022</td>\n",
              "      <td>1.6875</td>\n",
              "      <td>0.5625</td>\n",
              "      <td>0.000021</td>\n",
              "      <td>31140.0</td>\n",
              "      <td>2665.0</td>\n",
              "      <td>1379.0</td>\n",
              "      <td>1353.0</td>\n",
              "      <td>1474.0</td>\n",
              "      <td>1495.0</td>\n",
              "      <td>1590.0</td>\n",
              "      <td>1618.0</td>\n",
              "      <td>1621.0</td>\n",
              "      <td>27.0</td>\n",
              "      <td>25.0</td>\n",
              "      <td>24.0</td>\n",
              "      <td>25.0</td>\n",
              "      <td>26.0</td>\n",
              "      <td>25.0</td>\n",
              "      <td>23.0</td>\n",
              "      <td>22.0</td>\n",
              "      <td>22.0</td>\n",
              "      <td>23.0</td>\n",
              "      <td>...</td>\n",
              "      <td>11.433333</td>\n",
              "      <td>-3.000000</td>\n",
              "      <td>-3.000000</td>\n",
              "      <td>23.116667</td>\n",
              "      <td>21.033333</td>\n",
              "      <td>-9.9</td>\n",
              "      <td>32.483723</td>\n",
              "      <td>126.0</td>\n",
              "      <td>34.0</td>\n",
              "      <td>126.0</td>\n",
              "      <td>296.0</td>\n",
              "      <td>106.0</td>\n",
              "      <td>310.0</td>\n",
              "      <td>40.400002</td>\n",
              "      <td>1050.875854</td>\n",
              "      <td>1.065000</td>\n",
              "      <td>13959.000000</td>\n",
              "      <td>3.908333</td>\n",
              "      <td>30.0</td>\n",
              "      <td>1987</td>\n",
              "      <td>0.0</td>\n",
              "      <td>0.0</td>\n",
              "      <td>0.0</td>\n",
              "      <td>0.0</td>\n",
              "      <td>0.0</td>\n",
              "      <td>0.0</td>\n",
              "      <td>0.0</td>\n",
              "      <td>0.0</td>\n",
              "      <td>21.0</td>\n",
              "      <td>79.0</td>\n",
              "      <td>0.0</td>\n",
              "      <td>0.0</td>\n",
              "      <td>2.0</td>\n",
              "      <td>0.0</td>\n",
              "      <td>17.41257</td>\n",
              "      <td>0.0</td>\n",
              "      <td>1987IL109068_88P0084</td>\n",
              "      <td>0.0</td>\n",
              "      <td>-90.689451</td>\n",
              "      <td>40.491661</td>\n",
              "    </tr>\n",
              "    <tr>\n",
              "      <th>4</th>\n",
              "      <td>945.0</td>\n",
              "      <td>760.0</td>\n",
              "      <td>5816.0</td>\n",
              "      <td>70.0</td>\n",
              "      <td>779.0</td>\n",
              "      <td>0.003187</td>\n",
              "      <td>-0.000540</td>\n",
              "      <td>-2.943254e-05</td>\n",
              "      <td>0.000006</td>\n",
              "      <td>-0.059912</td>\n",
              "      <td>0.257359</td>\n",
              "      <td>0.132564</td>\n",
              "      <td>184.5</td>\n",
              "      <td>-0.028999</td>\n",
              "      <td>0.000030</td>\n",
              "      <td>15.0</td>\n",
              "      <td>1.468664</td>\n",
              "      <td>-0.000021</td>\n",
              "      <td>5.9375</td>\n",
              "      <td>-1.2500</td>\n",
              "      <td>0.000239</td>\n",
              "      <td>32767.0</td>\n",
              "      <td>3270.0</td>\n",
              "      <td>1279.0</td>\n",
              "      <td>1337.0</td>\n",
              "      <td>1435.0</td>\n",
              "      <td>1508.0</td>\n",
              "      <td>1588.0</td>\n",
              "      <td>1600.0</td>\n",
              "      <td>1609.0</td>\n",
              "      <td>25.0</td>\n",
              "      <td>22.0</td>\n",
              "      <td>21.0</td>\n",
              "      <td>22.0</td>\n",
              "      <td>22.0</td>\n",
              "      <td>22.0</td>\n",
              "      <td>21.0</td>\n",
              "      <td>20.0</td>\n",
              "      <td>20.0</td>\n",
              "      <td>21.0</td>\n",
              "      <td>...</td>\n",
              "      <td>11.575000</td>\n",
              "      <td>-3.083333</td>\n",
              "      <td>-3.083333</td>\n",
              "      <td>23.166666</td>\n",
              "      <td>21.150000</td>\n",
              "      <td>-10.1</td>\n",
              "      <td>33.702854</td>\n",
              "      <td>126.0</td>\n",
              "      <td>36.0</td>\n",
              "      <td>126.0</td>\n",
              "      <td>304.0</td>\n",
              "      <td>110.0</td>\n",
              "      <td>322.0</td>\n",
              "      <td>40.599998</td>\n",
              "      <td>1056.853149</td>\n",
              "      <td>1.071667</td>\n",
              "      <td>13927.333008</td>\n",
              "      <td>3.891667</td>\n",
              "      <td>30.0</td>\n",
              "      <td>1988</td>\n",
              "      <td>0.0</td>\n",
              "      <td>0.0</td>\n",
              "      <td>0.0</td>\n",
              "      <td>0.0</td>\n",
              "      <td>0.0</td>\n",
              "      <td>20.0</td>\n",
              "      <td>0.0</td>\n",
              "      <td>0.0</td>\n",
              "      <td>0.0</td>\n",
              "      <td>80.0</td>\n",
              "      <td>0.0</td>\n",
              "      <td>0.0</td>\n",
              "      <td>2.0</td>\n",
              "      <td>0.0</td>\n",
              "      <td>12.13996</td>\n",
              "      <td>0.0</td>\n",
              "      <td>1988IL067025_88P0797</td>\n",
              "      <td>0.0</td>\n",
              "      <td>-91.031389</td>\n",
              "      <td>40.547217</td>\n",
              "    </tr>\n",
              "  </tbody>\n",
              "</table>\n",
              "<p>5 rows × 167 columns</p>\n",
              "</div>"
            ],
            "text/plain": [
              "   EarthEnvCloudCover_MODCF_interannualSD  ...   latitude\n",
              "0                                  1100.0  ...  46.351348\n",
              "1                                   993.0  ...  40.263609\n",
              "2                                  1058.0  ...  38.240551\n",
              "3                                   988.0  ...  40.491661\n",
              "4                                   945.0  ...  40.547217\n",
              "\n",
              "[5 rows x 167 columns]"
            ]
          },
          "metadata": {
            "tags": []
          },
          "execution_count": 39
        }
      ]
    },
    {
      "cell_type": "markdown",
      "metadata": {
        "id": "wPgJwDdD1y18"
      },
      "source": [
        "# Issues"
      ]
    },
    {
      "cell_type": "markdown",
      "metadata": {
        "id": "CHUIIGa4109I"
      },
      "source": [
        "1. MODIS LAI and NDVI image col"
      ]
    },
    {
      "cell_type": "markdown",
      "metadata": {
        "id": "d_N_hXD43Ryb"
      },
      "source": [
        "# References"
      ]
    },
    {
      "cell_type": "markdown",
      "metadata": {
        "id": "V973-vz33UhU"
      },
      "source": [
        "- https://mygeoblog.com/2019/07/17/sample-an-image-collection/"
      ]
    },
    {
      "cell_type": "code",
      "metadata": {
        "id": "-vIaB2MQ3ONj"
      },
      "source": [
        ""
      ],
      "execution_count": null,
      "outputs": []
    }
  ]
}