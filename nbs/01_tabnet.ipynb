{
  "nbformat": 4,
  "nbformat_minor": 0,
  "metadata": {
    "colab": {
      "name": "01_tabnet.ipynb",
      "provenance": [],
      "collapsed_sections": [],
      "authorship_tag": "ABX9TyNm3FPKl8h2ZDvGT3IJgRwp",
      "include_colab_link": true
    },
    "kernelspec": {
      "name": "python3",
      "display_name": "Python 3"
    },
    "language_info": {
      "name": "python"
    },
    "accelerator": "GPU"
  },
  "cells": [
    {
      "cell_type": "markdown",
      "metadata": {
        "id": "view-in-github",
        "colab_type": "text"
      },
      "source": [
        "<a href=\"https://colab.research.google.com/github/qAp/soil/blob/develop/nbs/01_tabnet.ipynb\" target=\"_parent\"><img src=\"https://colab.research.google.com/assets/colab-badge.svg\" alt=\"Open In Colab\"/></a>"
      ]
    },
    {
      "cell_type": "markdown",
      "metadata": {
        "id": "0_4r5hGg4XEi"
      },
      "source": [
        "# Model-fitting using TabNet"
      ]
    },
    {
      "cell_type": "code",
      "metadata": {
        "id": "nlWF-dFL6L67"
      },
      "source": [
        "! pip install pytorch-tabnet"
      ],
      "execution_count": null,
      "outputs": []
    },
    {
      "cell_type": "code",
      "metadata": {
        "id": "lWrJ6maS5cOE"
      },
      "source": [
        "from google.colab import drive\n",
        "from pathlib import Path\n",
        "import numpy as np\n",
        "import pandas as pd\n",
        "from sklearn.metrics import mean_squared_error, mean_absolute_error\n",
        "import torch\n",
        "from pytorch_tabnet.tab_model import TabNetRegressor"
      ],
      "execution_count": 29,
      "outputs": []
    },
    {
      "cell_type": "code",
      "metadata": {
        "colab": {
          "base_uri": "https://localhost:8080/"
        },
        "id": "XzQgqP-IZjuw",
        "outputId": "2d9999ff-998f-4d34-e94a-7fb5846064a1"
      },
      "source": [
        "drive.mount('/content/drive')"
      ],
      "execution_count": 28,
      "outputs": [
        {
          "output_type": "stream",
          "text": [
            "Mounted at /content/drive\n"
          ],
          "name": "stdout"
        }
      ]
    },
    {
      "cell_type": "code",
      "metadata": {
        "id": "C25WLFQgamt2"
      },
      "source": [
        "Path.ls = lambda src: list(src.iterdir())"
      ],
      "execution_count": 32,
      "outputs": []
    },
    {
      "cell_type": "code",
      "metadata": {
        "id": "5NUzmpso4zDd"
      },
      "source": [
        "! wget https://www.dropbox.com/s/paqtujasjz8lwr8/iscn_env_dataset.csv"
      ],
      "execution_count": null,
      "outputs": []
    },
    {
      "cell_type": "code",
      "metadata": {
        "colab": {
          "base_uri": "https://localhost:8080/"
        },
        "id": "mA5-bVgP48jW",
        "outputId": "e738e8eb-b5e1-41e6-d8dd-fcbc276f20d1"
      },
      "source": [
        "iscn = pd.read_csv('iscn_env_dataset.csv')\n",
        "iscn.dropna(inplace=True)\n",
        "iscn.shape"
      ],
      "execution_count": 5,
      "outputs": [
        {
          "output_type": "execute_result",
          "data": {
            "text/plain": [
              "(30932, 167)"
            ]
          },
          "metadata": {
            "tags": []
          },
          "execution_count": 5
        }
      ]
    },
    {
      "cell_type": "code",
      "metadata": {
        "id": "ZeWmCDnZ5aSx"
      },
      "source": [
        "covariate_families = ['EarthEnv_', 'WorldClim2_', 'SG_', 'humandev_']\n",
        "other_covariates   = ['FanEtAl_Depth_to_Water_Table_AnnualMean', 'WCS_Human_Footprint_2009']"
      ],
      "execution_count": 6,
      "outputs": []
    },
    {
      "cell_type": "code",
      "metadata": {
        "id": "h6QiVhEW5iR6"
      },
      "source": [
        "target = 'orgc_stock_organic'\n",
        "features = [v for v in iscn.columns.values if v.startswith('WorldClim2_')]"
      ],
      "execution_count": 11,
      "outputs": []
    },
    {
      "cell_type": "code",
      "metadata": {
        "id": "ju7PW-cD8hNm"
      },
      "source": [
        "iscn['split'] = np.random.choice(['train', 'valid', 'test'], size=len(iscn), p=[.98, .01, .01])"
      ],
      "execution_count": 8,
      "outputs": []
    },
    {
      "cell_type": "code",
      "metadata": {
        "id": "_i9jggzpCeR5",
        "colab": {
          "base_uri": "https://localhost:8080/"
        },
        "outputId": "6b98a0f0-9f33-4bfa-d080-3ed9ad66ed79"
      },
      "source": [
        "model = TabNetRegressor()"
      ],
      "execution_count": 9,
      "outputs": [
        {
          "output_type": "stream",
          "text": [
            "Device used : cuda\n"
          ],
          "name": "stdout"
        }
      ]
    },
    {
      "cell_type": "code",
      "metadata": {
        "id": "KZdNmXboSLMy"
      },
      "source": [
        "def get_data_split(df, split, features, target):\n",
        "    df = df[df.split==split]\n",
        "    X = df[features].values\n",
        "    y = df[target].values.reshape(-1, 1)\n",
        "    return X, y"
      ],
      "execution_count": 17,
      "outputs": []
    },
    {
      "cell_type": "code",
      "metadata": {
        "id": "StmeVM_jRMie"
      },
      "source": [
        "X_train, y_train = get_data_split(iscn, 'train', features, target)\n",
        "X_valid, y_valid = get_data_split(iscn, 'valid', features, target)\n",
        "X_test , y_test  = get_data_split(iscn, 'test',  features, target)"
      ],
      "execution_count": 18,
      "outputs": []
    },
    {
      "cell_type": "code",
      "metadata": {
        "colab": {
          "base_uri": "https://localhost:8080/"
        },
        "id": "q4bkgb9fRMDk",
        "outputId": "e610b500-81d5-4606-a679-d098f4c1bf3f"
      },
      "source": [
        "model.fit(X_train, y_train, \n",
        "          eval_set=[(X_train, y_train), (X_valid, y_valid)],\n",
        "          eval_name=['train', 'valid'],\n",
        "          eval_metric=['mse', 'mae'],\n",
        "          patience=50,\n",
        "          batch_size=1024, virtual_batch_size=128,\n",
        "          num_workers=0,\n",
        "          drop_last=False)"
      ],
      "execution_count": 19,
      "outputs": [
        {
          "output_type": "stream",
          "text": [
            "epoch 0  | loss: 0.18589 | train_mse: 2.61971 | train_mae: 0.76108 | valid_mse: 2.19816 | valid_mae: 0.72735 |  0:00:02s\n",
            "epoch 1  | loss: 0.05301 | train_mse: 0.11129 | train_mae: 0.18615 | valid_mse: 0.05921 | valid_mae: 0.18508 |  0:00:03s\n",
            "epoch 2  | loss: 0.05122 | train_mse: 0.06416 | train_mae: 0.08857 | valid_mse: 0.01344 | valid_mae: 0.0792  |  0:00:05s\n",
            "epoch 3  | loss: 0.05094 | train_mse: 0.05417 | train_mae: 0.05278 | valid_mse: 0.00499 | valid_mae: 0.04611 |  0:00:07s\n",
            "epoch 4  | loss: 0.05055 | train_mse: 0.05747 | train_mae: 0.068   | valid_mse: 0.01023 | valid_mae: 0.06217 |  0:00:08s\n",
            "epoch 5  | loss: 0.04972 | train_mse: 0.05522 | train_mae: 0.05617 | valid_mse: 0.00661 | valid_mae: 0.05053 |  0:00:10s\n",
            "epoch 6  | loss: 0.04964 | train_mse: 0.05139 | train_mae: 0.03828 | valid_mse: 0.00282 | valid_mae: 0.03172 |  0:00:12s\n",
            "epoch 7  | loss: 0.04906 | train_mse: 0.04984 | train_mae: 0.03389 | valid_mse: 0.00281 | valid_mae: 0.02808 |  0:00:13s\n",
            "epoch 8  | loss: 0.04883 | train_mse: 0.04884 | train_mae: 0.03035 | valid_mse: 0.003   | valid_mae: 0.0247  |  0:00:15s\n",
            "epoch 9  | loss: 0.04879 | train_mse: 0.04634 | train_mae: 0.02285 | valid_mse: 0.00667 | valid_mae: 0.021   |  0:00:17s\n",
            "epoch 10 | loss: 0.04712 | train_mse: 0.04955 | train_mae: 0.02377 | valid_mse: 0.04375 | valid_mae: 0.03494 |  0:00:18s\n",
            "epoch 11 | loss: 0.04962 | train_mse: 0.04969 | train_mae: 0.02085 | valid_mse: 0.0022  | valid_mae: 0.01688 |  0:00:20s\n",
            "epoch 12 | loss: 0.04979 | train_mse: 0.0497  | train_mae: 0.02052 | valid_mse: 0.00432 | valid_mae: 0.02014 |  0:00:22s\n",
            "epoch 13 | loss: 0.04952 | train_mse: 0.04832 | train_mae: 0.01487 | valid_mse: 0.00262 | valid_mae: 0.01186 |  0:00:23s\n",
            "epoch 14 | loss: 0.0495  | train_mse: 0.04936 | train_mae: 0.01316 | valid_mse: 0.00156 | valid_mae: 0.0092  |  0:00:25s\n",
            "epoch 15 | loss: 0.04892 | train_mse: 0.04759 | train_mae: 0.0174  | valid_mse: 0.00456 | valid_mae: 0.01785 |  0:00:27s\n",
            "epoch 16 | loss: 0.04744 | train_mse: 0.04541 | train_mae: 0.0209  | valid_mse: 0.0208  | valid_mae: 0.03024 |  0:00:28s\n",
            "epoch 17 | loss: 0.05018 | train_mse: 0.05057 | train_mae: 0.01323 | valid_mse: 0.00085 | valid_mae: 0.00628 |  0:00:30s\n",
            "epoch 18 | loss: 0.05044 | train_mse: 0.04986 | train_mae: 0.02155 | valid_mse: 0.00168 | valid_mae: 0.01739 |  0:00:32s\n",
            "epoch 19 | loss: 0.05034 | train_mse: 0.04927 | train_mae: 0.02125 | valid_mse: 0.00442 | valid_mae: 0.02316 |  0:00:33s\n",
            "epoch 20 | loss: 0.05049 | train_mse: 0.04938 | train_mae: 0.02765 | valid_mse: 0.00786 | valid_mae: 0.03091 |  0:00:35s\n",
            "epoch 21 | loss: 0.05036 | train_mse: 0.04856 | train_mae: 0.01595 | valid_mse: 0.00364 | valid_mae: 0.01503 |  0:00:37s\n",
            "epoch 22 | loss: 0.04896 | train_mse: 0.04783 | train_mae: 0.01473 | valid_mse: 0.0038  | valid_mae: 0.01415 |  0:00:38s\n",
            "epoch 23 | loss: 0.04941 | train_mse: 0.0531  | train_mae: 0.03084 | valid_mse: 0.00444 | valid_mae: 0.0301  |  0:00:40s\n",
            "epoch 24 | loss: 0.05052 | train_mse: 0.04923 | train_mae: 0.02088 | valid_mse: 0.00474 | valid_mae: 0.02063 |  0:00:42s\n",
            "epoch 25 | loss: 0.04927 | train_mse: 0.04806 | train_mae: 0.01694 | valid_mse: 0.00795 | valid_mae: 0.02038 |  0:00:43s\n",
            "epoch 26 | loss: 0.04948 | train_mse: 0.04884 | train_mae: 0.01465 | valid_mse: 0.00259 | valid_mae: 0.01188 |  0:00:45s\n",
            "epoch 27 | loss: 0.04901 | train_mse: 0.04841 | train_mae: 0.0132  | valid_mse: 0.00251 | valid_mae: 0.01033 |  0:00:47s\n",
            "epoch 28 | loss: 0.04912 | train_mse: 0.04804 | train_mae: 0.01517 | valid_mse: 0.00299 | valid_mae: 0.01303 |  0:00:48s\n",
            "epoch 29 | loss: 0.04901 | train_mse: 0.04861 | train_mae: 0.01332 | valid_mse: 0.00209 | valid_mae: 0.01026 |  0:00:50s\n",
            "epoch 30 | loss: 0.04824 | train_mse: 0.04728 | train_mae: 0.01956 | valid_mse: 0.01378 | valid_mae: 0.02587 |  0:00:52s\n",
            "epoch 31 | loss: 0.04809 | train_mse: 0.04707 | train_mae: 0.01663 | valid_mse: 0.00974 | valid_mae: 0.01882 |  0:00:53s\n",
            "epoch 32 | loss: 0.0484  | train_mse: 0.04735 | train_mae: 0.0187  | valid_mse: 0.00986 | valid_mae: 0.02206 |  0:00:55s\n",
            "epoch 33 | loss: 0.04897 | train_mse: 0.04799 | train_mae: 0.01692 | valid_mse: 0.00411 | valid_mae: 0.01503 |  0:00:57s\n",
            "epoch 34 | loss: 0.04844 | train_mse: 0.04884 | train_mae: 0.01265 | valid_mse: 0.00236 | valid_mae: 0.00875 |  0:00:58s\n",
            "epoch 35 | loss: 0.04858 | train_mse: 0.04797 | train_mae: 0.01725 | valid_mse: 0.00741 | valid_mae: 0.01995 |  0:01:00s\n",
            "epoch 36 | loss: 0.04884 | train_mse: 0.04812 | train_mae: 0.01379 | valid_mse: 0.00425 | valid_mae: 0.01148 |  0:01:02s\n",
            "epoch 37 | loss: 0.04879 | train_mse: 0.04796 | train_mae: 0.01526 | valid_mse: 0.005   | valid_mae: 0.0168  |  0:01:03s\n",
            "epoch 38 | loss: 0.04912 | train_mse: 0.04746 | train_mae: 0.01479 | valid_mse: 0.0045  | valid_mae: 0.01419 |  0:01:05s\n",
            "epoch 39 | loss: 0.04787 | train_mse: 0.04831 | train_mae: 0.01462 | valid_mse: 0.00556 | valid_mae: 0.0142  |  0:01:07s\n",
            "epoch 40 | loss: 0.04972 | train_mse: 0.04837 | train_mae: 0.01521 | valid_mse: 0.00434 | valid_mae: 0.0136  |  0:01:08s\n",
            "epoch 41 | loss: 0.04844 | train_mse: 0.04785 | train_mae: 0.01413 | valid_mse: 0.00399 | valid_mae: 0.01261 |  0:01:10s\n",
            "epoch 42 | loss: 0.04855 | train_mse: 0.04788 | train_mae: 0.01908 | valid_mse: 0.00955 | valid_mae: 0.02348 |  0:01:12s\n",
            "epoch 43 | loss: 0.04898 | train_mse: 0.04885 | train_mae: 0.01166 | valid_mse: 0.00269 | valid_mae: 0.00954 |  0:01:13s\n",
            "epoch 44 | loss: 0.04902 | train_mse: 0.04827 | train_mae: 0.01365 | valid_mse: 0.00655 | valid_mae: 0.01511 |  0:01:15s\n",
            "epoch 45 | loss: 0.04889 | train_mse: 0.05043 | train_mae: 0.00999 | valid_mse: 0.00081 | valid_mae: 0.00251 |  0:01:17s\n",
            "epoch 46 | loss: 0.05088 | train_mse: 0.04881 | train_mae: 0.011   | valid_mse: 0.00121 | valid_mae: 0.00449 |  0:01:18s\n",
            "epoch 47 | loss: 0.04886 | train_mse: 0.04818 | train_mae: 0.01494 | valid_mse: 0.00463 | valid_mae: 0.01433 |  0:01:20s\n",
            "epoch 48 | loss: 0.04909 | train_mse: 0.05082 | train_mae: 0.01142 | valid_mse: 0.00074 | valid_mae: 0.00411 |  0:01:22s\n",
            "epoch 49 | loss: 0.05055 | train_mse: 0.0502  | train_mae: 0.02118 | valid_mse: 0.00323 | valid_mae: 0.02027 |  0:01:23s\n",
            "epoch 50 | loss: 0.05035 | train_mse: 0.04982 | train_mae: 0.0136  | valid_mse: 0.00128 | valid_mae: 0.00855 |  0:01:25s\n",
            "epoch 51 | loss: 0.04981 | train_mse: 0.04948 | train_mae: 0.01276 | valid_mse: 0.00116 | valid_mae: 0.00634 |  0:01:27s\n",
            "epoch 52 | loss: 0.04911 | train_mse: 0.0479  | train_mae: 0.01425 | valid_mse: 0.00136 | valid_mae: 0.00664 |  0:01:28s\n",
            "epoch 53 | loss: 0.04872 | train_mse: 0.0482  | train_mae: 0.0193  | valid_mse: 0.00801 | valid_mae: 0.01687 |  0:01:30s\n",
            "epoch 54 | loss: 0.04912 | train_mse: 0.04832 | train_mae: 0.01231 | valid_mse: 0.00128 | valid_mae: 0.00541 |  0:01:32s\n",
            "epoch 55 | loss: 0.04814 | train_mse: 0.04652 | train_mae: 0.0129  | valid_mse: 0.00189 | valid_mae: 0.00709 |  0:01:33s\n",
            "epoch 56 | loss: 0.04732 | train_mse: 0.04551 | train_mae: 0.01349 | valid_mse: 0.00204 | valid_mae: 0.00747 |  0:01:35s\n",
            "epoch 57 | loss: 0.04669 | train_mse: 0.04501 | train_mae: 0.01375 | valid_mse: 0.00209 | valid_mae: 0.00789 |  0:01:37s\n",
            "epoch 58 | loss: 0.04715 | train_mse: 0.04524 | train_mae: 0.015   | valid_mse: 0.00203 | valid_mae: 0.0089  |  0:01:38s\n",
            "epoch 59 | loss: 0.04712 | train_mse: 0.04491 | train_mae: 0.01501 | valid_mse: 0.0034  | valid_mae: 0.00995 |  0:01:40s\n",
            "epoch 60 | loss: 0.04954 | train_mse: 0.04918 | train_mae: 0.01386 | valid_mse: 0.00168 | valid_mae: 0.0077  |  0:01:42s\n",
            "epoch 61 | loss: 0.04891 | train_mse: 0.04465 | train_mae: 0.01651 | valid_mse: 0.00642 | valid_mae: 0.01481 |  0:01:43s\n",
            "epoch 62 | loss: 0.04668 | train_mse: 0.0426  | train_mae: 0.013   | valid_mse: 0.00424 | valid_mae: 0.00846 |  0:01:45s\n",
            "epoch 63 | loss: 0.04914 | train_mse: 0.04376 | train_mae: 0.01265 | valid_mse: 0.00249 | valid_mae: 0.008   |  0:01:47s\n",
            "epoch 64 | loss: 0.04605 | train_mse: 0.042   | train_mae: 0.01163 | valid_mse: 0.00276 | valid_mae: 0.00745 |  0:01:48s\n",
            "epoch 65 | loss: 0.05034 | train_mse: 0.04989 | train_mae: 0.01178 | valid_mse: 0.00082 | valid_mae: 0.00434 |  0:01:50s\n",
            "epoch 66 | loss: 0.04647 | train_mse: 0.04159 | train_mae: 0.01785 | valid_mse: 0.00893 | valid_mae: 0.01816 |  0:01:52s\n",
            "epoch 67 | loss: 0.04665 | train_mse: 0.04046 | train_mae: 0.01403 | valid_mse: 0.00737 | valid_mae: 0.01199 |  0:01:53s\n",
            "epoch 68 | loss: 0.04533 | train_mse: 0.04052 | train_mae: 0.018   | valid_mse: 0.02073 | valid_mae: 0.02587 |  0:01:55s\n",
            "epoch 69 | loss: 0.04861 | train_mse: 0.045   | train_mae: 0.01268 | valid_mse: 0.00264 | valid_mae: 0.00996 |  0:01:57s\n",
            "epoch 70 | loss: 0.04185 | train_mse: 0.03844 | train_mae: 0.01248 | valid_mse: 0.0101  | valid_mae: 0.01225 |  0:01:58s\n",
            "epoch 71 | loss: 0.04357 | train_mse: 0.04636 | train_mae: 0.01289 | valid_mse: 0.00535 | valid_mae: 0.01313 |  0:02:00s\n",
            "epoch 72 | loss: 0.05019 | train_mse: 0.05121 | train_mae: 0.01074 | valid_mse: 0.00076 | valid_mae: 0.00211 |  0:02:02s\n",
            "epoch 73 | loss: 0.05116 | train_mse: 0.05101 | train_mae: 0.00959 | valid_mse: 0.00072 | valid_mae: 0.0018  |  0:02:03s\n",
            "epoch 74 | loss: 0.0511  | train_mse: 0.05098 | train_mae: 0.0097  | valid_mse: 0.00072 | valid_mae: 0.00186 |  0:02:05s\n",
            "epoch 75 | loss: 0.05107 | train_mse: 0.05093 | train_mae: 0.01003 | valid_mse: 0.00073 | valid_mae: 0.00249 |  0:02:07s\n",
            "epoch 76 | loss: 0.05103 | train_mse: 0.05095 | train_mae: 0.00991 | valid_mse: 0.00073 | valid_mae: 0.00243 |  0:02:08s\n",
            "epoch 77 | loss: 0.05101 | train_mse: 0.05081 | train_mae: 0.01163 | valid_mse: 0.00092 | valid_mae: 0.00477 |  0:02:10s\n",
            "epoch 78 | loss: 0.05094 | train_mse: 0.05086 | train_mae: 0.01017 | valid_mse: 0.00075 | valid_mae: 0.00301 |  0:02:12s\n",
            "epoch 79 | loss: 0.05087 | train_mse: 0.05078 | train_mae: 0.00995 | valid_mse: 0.00074 | valid_mae: 0.0027  |  0:02:13s\n",
            "epoch 80 | loss: 0.05094 | train_mse: 0.05065 | train_mae: 0.01039 | valid_mse: 0.00078 | valid_mae: 0.00336 |  0:02:15s\n",
            "epoch 81 | loss: 0.05082 | train_mse: 0.05061 | train_mae: 0.0107  | valid_mse: 0.00082 | valid_mae: 0.00393 |  0:02:17s\n",
            "epoch 82 | loss: 0.05082 | train_mse: 0.05068 | train_mae: 0.01274 | valid_mse: 0.00078 | valid_mae: 0.00556 |  0:02:18s\n",
            "epoch 83 | loss: 0.05067 | train_mse: 0.04988 | train_mae: 0.01465 | valid_mse: 0.00149 | valid_mae: 0.0099  |  0:02:20s\n",
            "epoch 84 | loss: 0.04947 | train_mse: 0.04815 | train_mae: 0.01613 | valid_mse: 0.00878 | valid_mae: 0.01894 |  0:02:22s\n",
            "epoch 85 | loss: 0.04982 | train_mse: 0.04908 | train_mae: 0.01318 | valid_mse: 0.00355 | valid_mae: 0.00927 |  0:02:23s\n",
            "epoch 86 | loss: 0.04877 | train_mse: 0.04802 | train_mae: 0.02269 | valid_mse: 0.01821 | valid_mae: 0.02353 |  0:02:25s\n",
            "epoch 87 | loss: 0.05063 | train_mse: 0.05037 | train_mae: 0.01034 | valid_mse: 0.00077 | valid_mae: 0.0034  |  0:02:27s\n",
            "epoch 88 | loss: 0.04969 | train_mse: 0.04576 | train_mae: 0.01103 | valid_mse: 0.00378 | valid_mae: 0.00562 |  0:02:28s\n",
            "epoch 89 | loss: 0.04513 | train_mse: 0.04678 | train_mae: 0.00982 | valid_mse: 0.00071 | valid_mae: 0.00166 |  0:02:30s\n",
            "epoch 90 | loss: 0.05003 | train_mse: 0.04917 | train_mae: 0.0099  | valid_mse: 0.00086 | valid_mae: 0.0032  |  0:02:32s\n",
            "epoch 91 | loss: 0.04905 | train_mse: 0.04735 | train_mae: 0.01078 | valid_mse: 0.00235 | valid_mae: 0.006   |  0:02:33s\n",
            "epoch 92 | loss: 0.04827 | train_mse: 0.04816 | train_mae: 0.01249 | valid_mse: 0.00535 | valid_mae: 0.00958 |  0:02:35s\n",
            "epoch 93 | loss: 0.04818 | train_mse: 0.0469  | train_mae: 0.01037 | valid_mse: 0.00192 | valid_mae: 0.00413 |  0:02:37s\n",
            "epoch 94 | loss: 0.04689 | train_mse: 0.04553 | train_mae: 0.01035 | valid_mse: 0.00074 | valid_mae: 0.00231 |  0:02:38s\n",
            "epoch 95 | loss: 0.04558 | train_mse: 0.04297 | train_mae: 0.00912 | valid_mse: 0.00071 | valid_mae: 0.00178 |  0:02:40s\n",
            "epoch 96 | loss: 0.04937 | train_mse: 0.04808 | train_mae: 0.00996 | valid_mse: 0.00072 | valid_mae: 0.00191 |  0:02:42s\n",
            "epoch 97 | loss: 0.04536 | train_mse: 0.04608 | train_mae: 0.01052 | valid_mse: 0.00071 | valid_mae: 0.00171 |  0:02:43s\n",
            "epoch 98 | loss: 0.05302 | train_mse: 0.05099 | train_mae: 0.00954 | valid_mse: 0.00072 | valid_mae: 0.00187 |  0:02:45s\n",
            "epoch 99 | loss: 0.05107 | train_mse: 0.05099 | train_mae: 0.00939 | valid_mse: 0.0007  | valid_mae: 0.00174 |  0:02:47s\n",
            "Stop training because you reached max_epochs = 100 with best_epoch = 89 and best_valid_mae = 0.00166\n",
            "Best weights from best epoch are automatically used!\n"
          ],
          "name": "stdout"
        }
      ]
    },
    {
      "cell_type": "code",
      "metadata": {
        "colab": {
          "base_uri": "https://localhost:8080/"
        },
        "id": "gN37qcZFXzsQ",
        "outputId": "9414e52f-00ae-4536-fa7d-fd3dae378277"
      },
      "source": [
        "y_pred = model.predict(X_test)\n",
        "test_score = mean_absolute_error(y_test, y_pred)\n",
        "\n",
        "print(f'Best validation score: {model.best_cost}')\n",
        "print(f'Best test score: {test_score}')"
      ],
      "execution_count": 25,
      "outputs": [
        {
          "output_type": "stream",
          "text": [
            "Best validation score: 0.0016631230570341353\n",
            "Best test score: 0.00019286763070214543\n"
          ],
          "name": "stdout"
        }
      ]
    },
    {
      "cell_type": "code",
      "metadata": {
        "colab": {
          "base_uri": "https://localhost:8080/"
        },
        "id": "GsP6LlZpXzoF",
        "outputId": "9fd1f844-ce5e-43b6-dd8e-93a6b6014559"
      },
      "source": [
        "saving_pth = Path('/content/drive/MyDrive/soilshot') / 'simple_tabnet'\n",
        "saved_pth = model.save_model(saving_pth)"
      ],
      "execution_count": 34,
      "outputs": [
        {
          "output_type": "stream",
          "text": [
            "Successfully saved model at /content/drive/MyDrive/soilshot/simple_tabnet.zip\n"
          ],
          "name": "stdout"
        }
      ]
    },
    {
      "cell_type": "code",
      "metadata": {
        "colab": {
          "base_uri": "https://localhost:8080/"
        },
        "id": "3ClhlBYIXzkL",
        "outputId": "6b4c1433-ffff-44f8-931f-82e5dc43267b"
      },
      "source": [
        "loaded_model = TabNetRegressor()\n",
        "loaded_model.load_model(saved_pth)"
      ],
      "execution_count": 36,
      "outputs": [
        {
          "output_type": "stream",
          "text": [
            "Device used : cuda\n",
            "Device used : cuda\n"
          ],
          "name": "stdout"
        }
      ]
    },
    {
      "cell_type": "code",
      "metadata": {
        "colab": {
          "base_uri": "https://localhost:8080/"
        },
        "id": "y96_o0eoXzdX",
        "outputId": "1b0cacfc-7282-46c8-8a71-047b95ecbc3f"
      },
      "source": [
        "loaded_y_pred = loaded_model.predict(X_test)\n",
        "loaded_test_score = mean_absolute_error(y_test, loaded_y_pred)\n",
        "\n",
        "print(f'Best validation score: {model.best_cost}')\n",
        "print(f'Best test score: {test_score}')"
      ],
      "execution_count": 37,
      "outputs": [
        {
          "output_type": "stream",
          "text": [
            "Best validation score: 0.0016631230570341353\n",
            "Best test score: 0.00019286763070214543\n"
          ],
          "name": "stdout"
        }
      ]
    },
    {
      "cell_type": "code",
      "metadata": {
        "id": "Rr8S7iJoXzR8"
      },
      "source": [
        ""
      ],
      "execution_count": null,
      "outputs": []
    },
    {
      "cell_type": "markdown",
      "metadata": {
        "id": "Oei8t95rL8b2"
      },
      "source": [
        "# Useful Links"
      ]
    },
    {
      "cell_type": "markdown",
      "metadata": {
        "id": "p1vkiY77MBIR"
      },
      "source": [
        "- https://github.com/dreamquark-ai/tabnet"
      ]
    },
    {
      "cell_type": "code",
      "metadata": {
        "id": "IBA4mcxyL8Mo"
      },
      "source": [
        ""
      ],
      "execution_count": null,
      "outputs": []
    }
  ]
}